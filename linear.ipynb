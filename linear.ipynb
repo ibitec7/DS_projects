{
 "cells": [
  {
   "cell_type": "code",
   "execution_count": 1,
   "id": "9746db40-13e7-4b80-a80f-5c05c41ce1e3",
   "metadata": {},
   "outputs": [],
   "source": [
    "import torch\n",
    "import torch.nn as nn\n",
    "import matplotlib.pyplot as plt\n",
    "import numpy as np"
   ]
  },
  {
   "cell_type": "code",
   "execution_count": 2,
   "id": "8866bafb-e7af-4f8a-9912-0c813bac7fea",
   "metadata": {},
   "outputs": [],
   "source": [
    "from sklearn.model_selection import train_test_split"
   ]
  },
  {
   "cell_type": "code",
   "execution_count": 3,
   "id": "31453e8c-ccc6-41cc-bfcb-e95120d94cbc",
   "metadata": {},
   "outputs": [],
   "source": [
    "x=torch.arange(1,100,1)\n",
    "y=3*x+5"
   ]
  },
  {
   "cell_type": "code",
   "execution_count": 4,
   "id": "5659c664-2f35-49a9-bed0-77c57fc99112",
   "metadata": {},
   "outputs": [],
   "source": [
    "x=x.unsqueeze(dim=1)\n",
    "y=y.unsqueeze(dim=1)"
   ]
  },
  {
   "cell_type": "code",
   "execution_count": 5,
   "id": "43bc1cbd-ba06-40c2-abdd-cab934201808",
   "metadata": {},
   "outputs": [],
   "source": [
    "X_train,X_test,Y_train,Y_test=train_test_split(x,y,random_state=47,test_size=0.3)"
   ]
  },
  {
   "cell_type": "code",
   "execution_count": 6,
   "id": "c464ebdd-af99-4e99-b16b-a1c87d26586c",
   "metadata": {},
   "outputs": [
    {
     "data": {
      "text/plain": [
       "<matplotlib.collections.PathCollection at 0x7fb2f8a4edc0>"
      ]
     },
     "execution_count": 6,
     "metadata": {},
     "output_type": "execute_result"
    },
    {
     "data": {
      "image/png": "[encoded data removed]",
      "text/plain": [
       "<Figure size 640x480 with 1 Axes>"
      ]
     },
     "metadata": {},
     "output_type": "display_data"
    }
   ],
   "source": [
    "plt.scatter(X_train,Y_train,s=10,c='r')\n",
    "plt.scatter(X_test,Y_test,s=10,c='b')"
   ]
  },
  {
   "cell_type": "code",
   "execution_count": 7,
   "id": "2e74eaa0-fb6b-43f0-a057-0e4e8a21a793",
   "metadata": {},
   "outputs": [],
   "source": [
    "class LinearRegression(nn.Module):\n",
    "    def __init__(self):\n",
    "        super().__init__()\n",
    "        self.weight=nn.Parameter(torch.rand(1,requires_grad=True,dtype=torch.float))\n",
    "        self.bias=nn.Parameter(torch.rand(1,requires_grad=True,dtype=torch.float))\n",
    "        \n",
    "    def forward(self,x: torch.Tensor) -> torch.Tensor:\n",
    "        return self.weight*x+self.bias"
   ]
  },
  {
   "cell_type": "code",
   "execution_count": 8,
   "id": "be88bb89-d62e-4865-8c49-c1e26fea0536",
   "metadata": {},
   "outputs": [],
   "source": [
    "torch.manual_seed(47)\n",
    "lr=LinearRegression()"
   ]
  },
  {
   "cell_type": "code",
   "execution_count": 9,
   "id": "bee320d4-1e40-43ed-9f61-78794f03c312",
   "metadata": {},
   "outputs": [
    {
     "data": {
      "text/plain": [
       "OrderedDict([('weight', tensor([0.0530])), ('bias', tensor([0.0499]))])"
      ]
     },
     "execution_count": 9,
     "metadata": {},
     "output_type": "execute_result"
    }
   ],
   "source": [
    "lr.state_dict()"
   ]
  },
  {
   "cell_type": "code",
   "execution_count": 10,
   "id": "3b413b36-9d1a-4cbe-8de7-257946f85a8b",
   "metadata": {},
   "outputs": [],
   "source": [
    "loss_fn=nn.L1Loss()\n",
    "optimizer=torch.optim.Adam(params=lr.parameters())"
   ]
  },
  {
   "cell_type": "code",
   "execution_count": 11,
   "id": "f80c8f77-ecf5-42f4-ae76-8db0858be63d",
   "metadata": {},
   "outputs": [],
   "source": [
    "from sklearn.metrics import mean_absolute_error,mean_squared_error"
   ]
  },
  {
   "cell_type": "code",
   "execution_count": 12,
   "id": "df8156c2-056a-4258-a04d-88d3869db2ea",
   "metadata": {},
   "outputs": [
    {
     "name": "stdout",
     "output_type": "stream",
     "text": [
      "Epoch:     0 || MAE: 166.1908754153 || MSE: 36711.6856974669\n",
      "OrderedDict([('weight', tensor([0.0540])), ('bias', tensor([0.0509]))]) \n",
      "\n",
      "Epoch:   100 || MAE: 160.6175329715 || MSE: 34283.4735417750\n",
      "OrderedDict([('weight', tensor([0.1540])), ('bias', tensor([0.1509]))]) \n",
      "\n",
      "Epoch:   200 || MAE: 155.0441918552 || MSE: 31938.3396128808\n",
      "OrderedDict([('weight', tensor([0.2540])), ('bias', tensor([0.2509]))]) \n",
      "\n",
      "Epoch:   300 || MAE: 149.4709305465 || MSE: 29676.3149907327\n",
      "OrderedDict([('weight', tensor([0.3540])), ('bias', tensor([0.3509]))]) \n",
      "\n",
      "Epoch:   400 || MAE: 143.8976690471 || MSE: 27497.3655224636\n",
      "OrderedDict([('weight', tensor([0.4540])), ('bias', tensor([0.4509]))]) \n",
      "\n",
      "Epoch:   500 || MAE: 138.3244057854 || MSE: 25401.4905399633\n",
      "OrderedDict([('weight', tensor([0.5540])), ('bias', tensor([0.5509]))]) \n",
      "\n",
      "Epoch:   600 || MAE: 132.7511442860 || MSE: 23388.6914177355\n",
      "OrderedDict([('weight', tensor([0.6540])), ('bias', tensor([0.6509]))]) \n",
      "\n",
      "Epoch:   700 || MAE: 127.1778818091 || MSE: 21458.9671229583\n",
      "OrderedDict([('weight', tensor([0.7540])), ('bias', tensor([0.7509]))]) \n",
      "\n",
      "Epoch:   800 || MAE: 121.6046195070 || MSE: 19612.3182124281\n",
      "OrderedDict([('weight', tensor([0.8540])), ('bias', tensor([0.8509]))]) \n",
      "\n",
      "Epoch:   900 || MAE: 116.0313580473 || MSE: 17848.7447276951\n",
      "OrderedDict([('weight', tensor([0.9540])), ('bias', tensor([0.9509]))]) \n",
      "\n",
      "Epoch:  1000 || MAE: 110.4579157035 || MSE: 16168.1932253364\n",
      "OrderedDict([('weight', tensor([1.0540])), ('bias', tensor([1.0509]))]) \n",
      "\n",
      "Epoch:  1100 || MAE: 104.8843210538 || MSE: 14570.6797976442\n",
      "OrderedDict([('weight', tensor([1.1540])), ('bias', tensor([1.1509]))]) \n",
      "\n",
      "Epoch:  1200 || MAE: 99.3107268810 || MSE: 13056.2516258164\n",
      "OrderedDict([('weight', tensor([1.2541])), ('bias', tensor([1.2509]))]) \n",
      "\n",
      "Epoch:  1300 || MAE: 93.7371325572 || MSE: 11624.9085205194\n",
      "OrderedDict([('weight', tensor([1.3541])), ('bias', tensor([1.3509]))]) \n",
      "\n",
      "Epoch:  1400 || MAE: 88.1635412931 || MSE: 10276.6513375965\n",
      "OrderedDict([('weight', tensor([1.4541])), ('bias', tensor([1.4509]))]) \n",
      "\n",
      "Epoch:  1500 || MAE: 82.5899475495 || MSE: 9011.4785476938\n",
      "OrderedDict([('weight', tensor([1.5541])), ('bias', tensor([1.5509]))]) \n",
      "\n",
      "Epoch:  1600 || MAE: 77.0163526615 || MSE: 7829.3905384836\n",
      "OrderedDict([('weight', tensor([1.6541])), ('bias', tensor([1.6509]))]) \n",
      "\n",
      "Epoch:  1700 || MAE: 71.4427579641 || MSE: 6730.3878768220\n",
      "OrderedDict([('weight', tensor([1.7541])), ('bias', tensor([1.7509]))]) \n",
      "\n",
      "Epoch:  1800 || MAE: 65.8691641569 || MSE: 5714.4702865189\n",
      "OrderedDict([('weight', tensor([1.8541])), ('bias', tensor([1.8510]))]) \n",
      "\n",
      "Epoch:  1900 || MAE: 60.2955686331 || MSE: 4781.6376444521\n",
      "OrderedDict([('weight', tensor([1.9541])), ('bias', tensor([1.9510]))]) \n",
      "\n",
      "Epoch:  2000 || MAE: 54.7223367055 || MSE: 3931.9429850435\n",
      "OrderedDict([('weight', tensor([2.0541])), ('bias', tensor([2.0510]))]) \n",
      "\n",
      "Epoch:  2100 || MAE: 49.1494085948 || MSE: 3165.3620171438\n",
      "OrderedDict([('weight', tensor([2.1541])), ('bias', tensor([2.1509]))]) \n",
      "\n",
      "Epoch:  2200 || MAE: 43.5764731089 || MSE: 2481.8453611587\n",
      "OrderedDict([('weight', tensor([2.2541])), ('bias', tensor([2.2509]))]) \n",
      "\n",
      "Epoch:  2300 || MAE: 38.0035451253 || MSE: 1881.3950711314\n",
      "OrderedDict([('weight', tensor([2.3541])), ('bias', tensor([2.3509]))]) \n",
      "\n",
      "Epoch:  2400 || MAE: 32.4306159973 || MSE: 1364.0099616557\n",
      "OrderedDict([('weight', tensor([2.4541])), ('bias', tensor([2.4509]))]) \n",
      "\n",
      "Epoch:  2500 || MAE: 26.8576878866 || MSE: 929.6901459485\n",
      "OrderedDict([('weight', tensor([2.5540])), ('bias', tensor([2.5509]))]) \n",
      "\n",
      "Epoch:  2600 || MAE: 21.2847609202 || MSE: 578.4356669020\n",
      "OrderedDict([('weight', tensor([2.6540])), ('bias', tensor([2.6509]))]) \n",
      "\n",
      "Epoch:  2700 || MAE: 15.7118289948 || MSE: 310.2461578240\n",
      "OrderedDict([('weight', tensor([2.7540])), ('bias', tensor([2.7509]))]) \n",
      "\n",
      "Epoch:  2800 || MAE: 10.1389012655 || MSE: 125.1221988927\n",
      "OrderedDict([('weight', tensor([2.8540])), ('bias', tensor([2.8509]))]) \n",
      "\n",
      "Epoch:  2900 || MAE: 4.5659703573 || MSE: 23.0633947575\n",
      "OrderedDict([('weight', tensor([2.9540])), ('bias', tensor([2.9509]))]) \n",
      "\n"
     ]
    }
   ],
   "source": [
    "epochs=3000\n",
    "count=[]\n",
    "test_loss_val=[]\n",
    "train_loss_val=[]\n",
    "\n",
    "for epoch in range(epochs):\n",
    "    lr.train()\n",
    "    train_pred=lr(X_train)\n",
    "    train_loss=loss_fn(Y_train,train_pred)\n",
    "    optimizer.zero_grad()\n",
    "    train_loss.backward()\n",
    "    optimizer.step()\n",
    "    \n",
    "    train_loss_val.append(train_loss)\n",
    "    \n",
    "    lr.eval()\n",
    "    with torch.inference_mode():\n",
    "        test_pred=lr(X_test)\n",
    "        test_loss=loss_fn(Y_test,test_pred)\n",
    "        mae=mean_absolute_error(Y_test,test_pred)\n",
    "        mse=mean_squared_error(Y_test,test_pred)\n",
    "    test_loss_val.append(test_loss)\n",
    "    \n",
    "    if epoch%100==0:\n",
    "        print(f\"Epoch: {epoch:5d} || MAE: {mae:.10f} || MSE: {mse:.10f}\")\n",
    "        print(lr.state_dict(),\"\\n\")"
   ]
  },
  {
   "cell_type": "code",
   "execution_count": 13,
   "id": "92d8e29e-fcec-45f9-a4e8-c8882fae48d2",
   "metadata": {},
   "outputs": [],
   "source": [
    "with torch.inference_mode():\n",
    "    y_preds=lr(X_test)"
   ]
  },
  {
   "cell_type": "code",
   "execution_count": 14,
   "id": "35b999f6-373a-4e02-ae57-668a50a89325",
   "metadata": {},
   "outputs": [
    {
     "data": {
      "text/plain": [
       "<matplotlib.collections.PathCollection at 0x7fb2f584e2b0>"
      ]
     },
     "execution_count": 14,
     "metadata": {},
     "output_type": "execute_result"
    },
    {
     "data": {
      "image/png": "[encoded data removed]",
      "text/plain": [
       "<Figure size 640x480 with 1 Axes>"
      ]
     },
     "metadata": {},
     "output_type": "display_data"
    }
   ],
   "source": [
    "plt.scatter(X_test,y_preds,c='r')\n",
    "plt.scatter(X_test,Y_test,c='b')"
   ]
  },
  {
   "cell_type": "code",
   "execution_count": 15,
   "id": "413ebb44-caa6-4484-b8d4-e4e930330ed3",
   "metadata": {},
   "outputs": [
    {
     "name": "stdout",
     "output_type": "stream",
     "text": [
      "Saving file to: Linear/lrmodel_params.pth\n"
     ]
    }
   ],
   "source": [
    "from pathlib import Path\n",
    "path=Path(\"Linear\")\n",
    "path.mkdir(parents=True,exist_ok=True)\n",
    "\n",
    "model_name=\"lrmodel_params.pth\"\n",
    "model_path=path/model_name\n",
    "print(f\"Saving file to: {model_path}\")\n",
    "torch.save(lr.state_dict(),f=model_path)"
   ]
  },
  {
   "cell_type": "code",
   "execution_count": 16,
   "id": "7dfb5703-f04d-4977-830b-0899ae3a8785",
   "metadata": {},
   "outputs": [
    {
     "data": {
      "text/plain": [
       "OrderedDict([('weight', tensor([3.0328])), ('bias', tensor([3.0378]))])"
      ]
     },
     "execution_count": 16,
     "metadata": {},
     "output_type": "execute_result"
    }
   ],
   "source": [
    "lr.state_dict()"
   ]
  },
  {
   "cell_type": "code",
   "execution_count": 17,
   "id": "97841056-7e50-462b-9e6a-3e36b38cb328",
   "metadata": {},
   "outputs": [],
   "source": [
    "class Lasso(nn.Module):\n",
    "    def __init__(self):\n",
    "        super().__init__()\n",
    "        self.weight=nn.Parameter(torch.rand(1,requires_grad=True,dtype=torch.float))\n",
    "        self.bias=nn.Parameter(torch.rand(1,requires_grad=True,dtype=torch.float))\n",
    "        \n",
    "    def forward(self,x: torch.Tensor) -> torch.Tensor:\n",
    "        return self.bias*x+self.weight"
   ]
  },
  {
   "cell_type": "code",
   "execution_count": 18,
   "id": "e03a6487-c9d9-475f-8e0d-7dcf1acba479",
   "metadata": {},
   "outputs": [
    {
     "data": {
      "text/plain": [
       "OrderedDict([('weight', tensor([0.4677])), ('bias', tensor([0.8757]))])"
      ]
     },
     "execution_count": 18,
     "metadata": {},
     "output_type": "execute_result"
    }
   ],
   "source": [
    "lasso=Lasso()\n",
    "lasso.state_dict()"
   ]
  },
  {
   "cell_type": "code",
   "execution_count": 19,
   "id": "2bf72691-4c04-4974-920e-9681223c855b",
   "metadata": {},
   "outputs": [
    {
     "data": {
      "text/plain": [
       "<All keys matched successfully>"
      ]
     },
     "execution_count": 19,
     "metadata": {},
     "output_type": "execute_result"
    }
   ],
   "source": [
    "lasso.load_state_dict(torch.load(f=\"Linear/lrmodel_params.pth\"))"
   ]
  },
  {
   "cell_type": "code",
   "execution_count": 20,
   "id": "7a6f3614-3ad3-4243-a097-7ebe58871068",
   "metadata": {},
   "outputs": [
    {
     "data": {
      "text/plain": [
       "OrderedDict([('weight', tensor([3.0328])), ('bias', tensor([3.0378]))])"
      ]
     },
     "execution_count": 20,
     "metadata": {},
     "output_type": "execute_result"
    }
   ],
   "source": [
    "lasso.state_dict()"
   ]
  },
  {
   "cell_type": "code",
   "execution_count": 21,
   "id": "23f32555-b34f-4bf0-b87f-6fdc3299c874",
   "metadata": {},
   "outputs": [],
   "source": [
    "l2_loss=nn.MSELoss()\n",
    "adam=torch.optim.Adam(params=lasso.parameters())"
   ]
  },
  {
   "cell_type": "code",
   "execution_count": 22,
   "id": "762a0c55-db0a-474d-ab20-f162378d7d85",
   "metadata": {},
   "outputs": [],
   "source": [
    "X_train=X_train.to(torch.float)\n",
    "X_test=X_test.to(torch.float)\n",
    "Y_train=Y_train.to(torch.float)\n",
    "Y_test=Y_test.to(torch.float)"
   ]
  },
  {
   "cell_type": "code",
   "execution_count": 23,
   "id": "8f892289-794a-42f8-944b-942418389a47",
   "metadata": {},
   "outputs": [
    {
     "name": "stdout",
     "output_type": "stream",
     "text": [
      "Epoch: 0 || MAE: 1.0863151550292969 || MSE: 1.4246833324432373\n",
      "OrderedDict([('weight', tensor([3.0338])), ('bias', tensor([3.0368]))]) \n",
      "\n",
      "Epoch: 10 || MAE: 0.865774929523468 || MSE: 1.022925853729248\n",
      "OrderedDict([('weight', tensor([3.0440])), ('bias', tensor([3.0293]))]) \n",
      "\n",
      "Epoch: 20 || MAE: 0.8963205814361572 || MSE: 1.0593106746673584\n",
      "OrderedDict([('weight', tensor([3.0547])), ('bias', tensor([3.0307]))]) \n",
      "\n",
      "Epoch: 30 || MAE: 0.9238777160644531 || MSE: 1.0999385118484497\n",
      "OrderedDict([('weight', tensor([3.0649])), ('bias', tensor([3.0319]))]) \n",
      "\n",
      "Epoch: 40 || MAE: 0.8839884996414185 || MSE: 1.0333174467086792\n",
      "OrderedDict([('weight', tensor([3.0746])), ('bias', tensor([3.0303]))]) \n",
      "\n",
      "Epoch: 50 || MAE: 0.8930789828300476 || MSE: 1.042539358139038\n",
      "OrderedDict([('weight', tensor([3.0847])), ('bias', tensor([3.0307]))]) \n",
      "\n",
      "Epoch: 60 || MAE: 0.8889685273170471 || MSE: 1.0325599908828735\n",
      "OrderedDict([('weight', tensor([3.0946])), ('bias', tensor([3.0306]))]) \n",
      "\n",
      "Epoch: 70 || MAE: 0.8793153762817383 || MSE: 1.0142914056777954\n",
      "OrderedDict([('weight', tensor([3.1045])), ('bias', tensor([3.0302]))]) \n",
      "\n",
      "Epoch: 80 || MAE: 0.8792629241943359 || MSE: 1.0105082988739014\n",
      "OrderedDict([('weight', tensor([3.1144])), ('bias', tensor([3.0302]))]) \n",
      "\n",
      "Epoch: 90 || MAE: 0.8716688752174377 || MSE: 0.9954948425292969\n",
      "OrderedDict([('weight', tensor([3.1242])), ('bias', tensor([3.0299]))]) \n",
      "\n",
      "Epoch: 100 || MAE: 0.868748128414154 || MSE: 0.987524688243866\n",
      "OrderedDict([('weight', tensor([3.1340])), ('bias', tensor([3.0299]))]) \n",
      "\n",
      "Epoch: 110 || MAE: 0.863312304019928 || MSE: 0.9758936166763306\n",
      "OrderedDict([('weight', tensor([3.1438])), ('bias', tensor([3.0297]))]) \n",
      "\n",
      "Epoch: 120 || MAE: 0.8591817617416382 || MSE: 0.9662541747093201\n",
      "OrderedDict([('weight', tensor([3.1536])), ('bias', tensor([3.0295]))]) \n",
      "\n",
      "Epoch: 130 || MAE: 0.85442054271698 || MSE: 0.9557527899742126\n",
      "OrderedDict([('weight', tensor([3.1633])), ('bias', tensor([3.0294]))]) \n",
      "\n",
      "Epoch: 140 || MAE: 0.8499979376792908 || MSE: 0.9458082914352417\n",
      "OrderedDict([('weight', tensor([3.1731])), ('bias', tensor([3.0292]))]) \n",
      "\n",
      "Epoch: 150 || MAE: 0.8454117178916931 || MSE: 0.9356908202171326\n",
      "OrderedDict([('weight', tensor([3.1828])), ('bias', tensor([3.0290]))]) \n",
      "\n",
      "Epoch: 160 || MAE: 0.8409488201141357 || MSE: 0.9258105754852295\n",
      "OrderedDict([('weight', tensor([3.1924])), ('bias', tensor([3.0289]))]) \n",
      "\n",
      "Epoch: 170 || MAE: 0.836420476436615 || MSE: 0.9159004092216492\n",
      "OrderedDict([('weight', tensor([3.2021])), ('bias', tensor([3.0287]))]) \n",
      "\n",
      "Epoch: 180 || MAE: 0.8319643139839172 || MSE: 0.9061556458473206\n",
      "OrderedDict([('weight', tensor([3.2117])), ('bias', tensor([3.0286]))]) \n",
      "\n",
      "Epoch: 190 || MAE: 0.8274816870689392 || MSE: 0.8964328169822693\n",
      "OrderedDict([('weight', tensor([3.2213])), ('bias', tensor([3.0284]))]) \n",
      "\n",
      "Epoch: 200 || MAE: 0.8230346441268921 || MSE: 0.8868241906166077\n",
      "OrderedDict([('weight', tensor([3.2308])), ('bias', tensor([3.0283]))]) \n",
      "\n",
      "Epoch: 210 || MAE: 0.8185833692550659 || MSE: 0.8772677183151245\n",
      "OrderedDict([('weight', tensor([3.2404])), ('bias', tensor([3.0281]))]) \n",
      "\n",
      "Epoch: 220 || MAE: 0.8141599893569946 || MSE: 0.8678125739097595\n",
      "OrderedDict([('weight', tensor([3.2499])), ('bias', tensor([3.0280]))]) \n",
      "\n",
      "Epoch: 230 || MAE: 0.8097360134124756 || MSE: 0.858414888381958\n",
      "OrderedDict([('weight', tensor([3.2594])), ('bias', tensor([3.0278]))]) \n",
      "\n",
      "Epoch: 240 || MAE: 0.8053333163261414 || MSE: 0.8491085171699524\n",
      "OrderedDict([('weight', tensor([3.2688])), ('bias', tensor([3.0277]))]) \n",
      "\n",
      "Epoch: 250 || MAE: 0.8009387850761414 || MSE: 0.8398690819740295\n",
      "OrderedDict([('weight', tensor([3.2782])), ('bias', tensor([3.0275]))]) \n",
      "\n",
      "Epoch: 260 || MAE: 0.7965571284294128 || MSE: 0.8307088017463684\n",
      "OrderedDict([('weight', tensor([3.2877])), ('bias', tensor([3.0274]))]) \n",
      "\n",
      "Epoch: 270 || MAE: 0.7921743988990784 || MSE: 0.8216041922569275\n",
      "OrderedDict([('weight', tensor([3.2970])), ('bias', tensor([3.0272]))]) \n",
      "\n",
      "Epoch: 280 || MAE: 0.7878186106681824 || MSE: 0.8125956058502197\n",
      "OrderedDict([('weight', tensor([3.3064])), ('bias', tensor([3.0271]))]) \n",
      "\n",
      "Epoch: 290 || MAE: 0.7834743857383728 || MSE: 0.8036614656448364\n",
      "OrderedDict([('weight', tensor([3.3157])), ('bias', tensor([3.0269]))]) \n",
      "\n",
      "Epoch: 300 || MAE: 0.7791445255279541 || MSE: 0.7948037981987\n",
      "OrderedDict([('weight', tensor([3.3250])), ('bias', tensor([3.0268]))]) \n",
      "\n",
      "Epoch: 310 || MAE: 0.7748274207115173 || MSE: 0.7860194444656372\n",
      "OrderedDict([('weight', tensor([3.3343])), ('bias', tensor([3.0266]))]) \n",
      "\n",
      "Epoch: 320 || MAE: 0.7705085873603821 || MSE: 0.7772901058197021\n",
      "OrderedDict([('weight', tensor([3.3436])), ('bias', tensor([3.0265]))]) \n",
      "\n",
      "Epoch: 330 || MAE: 0.766217052936554 || MSE: 0.7686541676521301\n",
      "OrderedDict([('weight', tensor([3.3528])), ('bias', tensor([3.0263]))]) \n",
      "\n",
      "Epoch: 340 || MAE: 0.7619289755821228 || MSE: 0.7600799202919006\n",
      "OrderedDict([('weight', tensor([3.3620])), ('bias', tensor([3.0262]))]) \n",
      "\n",
      "Epoch: 350 || MAE: 0.7576504945755005 || MSE: 0.7515717148780823\n",
      "OrderedDict([('weight', tensor([3.3712])), ('bias', tensor([3.0260]))]) \n",
      "\n",
      "Epoch: 360 || MAE: 0.753390908241272 || MSE: 0.7431452870368958\n",
      "OrderedDict([('weight', tensor([3.3804])), ('bias', tensor([3.0259]))]) \n",
      "\n",
      "Epoch: 370 || MAE: 0.7491478323936462 || MSE: 0.7347965240478516\n",
      "OrderedDict([('weight', tensor([3.3895])), ('bias', tensor([3.0257]))]) \n",
      "\n",
      "Epoch: 380 || MAE: 0.7449092268943787 || MSE: 0.7265064716339111\n",
      "OrderedDict([('weight', tensor([3.3986])), ('bias', tensor([3.0256]))]) \n",
      "\n",
      "Epoch: 390 || MAE: 0.7406834959983826 || MSE: 0.7182899117469788\n",
      "OrderedDict([('weight', tensor([3.4077])), ('bias', tensor([3.0254]))]) \n",
      "\n",
      "Epoch: 400 || MAE: 0.7364636063575745 || MSE: 0.7101322412490845\n",
      "OrderedDict([('weight', tensor([3.4167])), ('bias', tensor([3.0253]))]) \n",
      "\n",
      "Epoch: 410 || MAE: 0.7322677373886108 || MSE: 0.7020614147186279\n",
      "OrderedDict([('weight', tensor([3.4258])), ('bias', tensor([3.0252]))]) \n",
      "\n",
      "Epoch: 420 || MAE: 0.7280768156051636 || MSE: 0.6940501928329468\n",
      "OrderedDict([('weight', tensor([3.4348])), ('bias', tensor([3.0250]))]) \n",
      "\n",
      "Epoch: 430 || MAE: 0.723894476890564 || MSE: 0.6861034035682678\n",
      "OrderedDict([('weight', tensor([3.4437])), ('bias', tensor([3.0249]))]) \n",
      "\n",
      "Epoch: 440 || MAE: 0.7197330594062805 || MSE: 0.6782357692718506\n",
      "OrderedDict([('weight', tensor([3.4527])), ('bias', tensor([3.0247]))]) \n",
      "\n",
      "Epoch: 450 || MAE: 0.7155659794807434 || MSE: 0.6704137325286865\n",
      "OrderedDict([('weight', tensor([3.4616])), ('bias', tensor([3.0246]))]) \n",
      "\n",
      "Epoch: 460 || MAE: 0.7114246487617493 || MSE: 0.6626760959625244\n",
      "OrderedDict([('weight', tensor([3.4705])), ('bias', tensor([3.0244]))]) \n",
      "\n",
      "Epoch: 470 || MAE: 0.7072975039482117 || MSE: 0.6550080180168152\n",
      "OrderedDict([('weight', tensor([3.4794])), ('bias', tensor([3.0243]))]) \n",
      "\n",
      "Epoch: 480 || MAE: 0.7031757831573486 || MSE: 0.6473987698554993\n",
      "OrderedDict([('weight', tensor([3.4883])), ('bias', tensor([3.0242]))]) \n",
      "\n",
      "Epoch: 490 || MAE: 0.6990661025047302 || MSE: 0.6398547291755676\n",
      "OrderedDict([('weight', tensor([3.4971])), ('bias', tensor([3.0240]))]) \n",
      "\n"
     ]
    }
   ],
   "source": [
    "epochs=500\n",
    "\n",
    "for epoch in range(epochs):\n",
    "    lasso.train()\n",
    "    lasso_pred=lasso(X_train)\n",
    "    loss=l2_loss(Y_train,lasso_pred)\n",
    "    \n",
    "    adam.zero_grad()\n",
    "    loss.backward()\n",
    "    adam.step()\n",
    "    \n",
    "    lasso.eval()\n",
    "    with torch.inference_mode():\n",
    "        test_pred=lasso(X_test)\n",
    "        mae=mean_absolute_error(Y_test,test_pred)\n",
    "        mse=mean_squared_error(Y_test,test_pred)\n",
    "    if epoch%10==0:\n",
    "        print(f\"Epoch: {epoch} || MAE: {mae} || MSE: {mse}\")\n",
    "        print(lasso.state_dict(),\"\\n\")"
   ]
  },
  {
   "cell_type": "code",
   "execution_count": 25,
   "id": "a15f5d15-7b24-4034-b433-a9267c4feed6",
   "metadata": {},
   "outputs": [
    {
     "data": {
      "text/plain": [
       "<matplotlib.collections.PathCollection at 0x7fb2f25d5d90>"
      ]
     },
     "execution_count": 25,
     "metadata": {},
     "output_type": "execute_result"
    },
    {
     "data": {
      "image/png": "[encoded data removed]",
      "text/plain": [
       "<Figure size 640x480 with 1 Axes>"
      ]
     },
     "metadata": {},
     "output_type": "display_data"
    }
   ],
   "source": [
    "with torch.inference_mode():\n",
    "    yhat=lasso(X_test)\n",
    "    \n",
    "plt.scatter(X_test,Y_test,label='')\n",
    "plt.scatter(X_test,yhat,c='r')"
   ]
  }
 ],
 "metadata": {
  "kernelspec": {
   "display_name": "Python 3 (ipykernel)",
   "language": "python",
   "name": "python3"
  },
  "language_info": {
   "codemirror_mode": {
    "name": "ipython",
    "version": 3
   },
   "file_extension": ".py",
   "mimetype": "text/x-python",
   "name": "python",
   "nbconvert_exporter": "python",
   "pygments_lexer": "ipython3",
   "version": "3.9.18"
  }
 },
 "nbformat": 4,
 "nbformat_minor": 5
}
