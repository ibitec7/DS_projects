{
 "cells": [
  {
   "cell_type": "code",
   "execution_count": 1,
   "id": "e0b6d40e-afbd-44e5-a329-0639b6f98864",
   "metadata": {},
   "outputs": [],
   "source": [
    "import torch\n",
    "import torch.nn as nn\n",
    "import numpy as np\n",
    "import matplotlib.pyplot as plt\n",
    "import data_tools as dt"
   ]
  },
  {
   "cell_type": "code",
   "execution_count": 2,
   "id": "089bc2ae-482c-4846-be97-7f0e42305fa5",
   "metadata": {},
   "outputs": [],
   "source": [
    "from sklearn.datasets import make_blobs\n",
    "X,y=make_blobs(n_samples=50,n_features=3,random_state=69,centers=3)"
   ]
  },
  {
   "cell_type": "code",
   "execution_count": 3,
   "id": "66dec0b3-d535-4369-9e17-61736e1bd0f6",
   "metadata": {},
   "outputs": [],
   "source": [
    "X=torch.from_numpy(X).type(torch.float16)\n",
    "y=torch.from_numpy(y).type(torch.float16)"
   ]
  },
  {
   "cell_type": "markdown",
   "id": "fecea647-a466-4616-8cc5-b7375126fec4",
   "metadata": {},
   "source": [
    "INITIALIZE GRID_SIZE OF KOHONEN LAYER,INPUT DIMENSION AND LEARNING RATE"
   ]
  },
  {
   "cell_type": "code",
   "execution_count": 4,
   "id": "c36a147d-2aaf-4d5e-aa9c-861672136202",
   "metadata": {},
   "outputs": [],
   "source": [
    "grid=(20,20)\n",
    "input_dim=3\n",
    "lr=1e-2"
   ]
  },
  {
   "cell_type": "markdown",
   "id": "8c60b7d2-d465-45a4-a033-e9db52b3387e",
   "metadata": {},
   "source": [
    "CREATE THE KOHONEN LAYER"
   ]
  },
  {
   "cell_type": "code",
   "execution_count": 5,
   "id": "cccd7eb4-6e94-4d30-9acd-cf638d458b69",
   "metadata": {},
   "outputs": [],
   "source": [
    "som_grid=nn.Parameter(torch.randn(grid[0],grid[1],input_dim,dtype=torch.float16)).detach()"
   ]
  },
  {
   "cell_type": "code",
   "execution_count": 6,
   "id": "d1af8b00-82c5-45d0-bb1b-a535eb559ee1",
   "metadata": {},
   "outputs": [],
   "source": [
    "def nbrs_func(win,pos,sig):\n",
    "    return torch.exp(-torch.linalg.vector_norm(win-pos)/(2*sig**2))\n",
    "\n",
    "def mex_hat(distance, sigma):\n",
    "    return (1 - (distance**2 / (2 * sigma**2))) * np.exp(-distance**2 / (2 * sigma**2))"
   ]
  },
  {
   "cell_type": "code",
   "execution_count": 7,
   "id": "1c4522ea-86d0-4d95-83c5-91eae0222569",
   "metadata": {},
   "outputs": [
    {
     "name": "stdout",
     "output_type": "stream",
     "text": [
      "CPU times: user 5.7 s, sys: 27.3 ms, total: 5.73 s\n",
      "Wall time: 5.79 s\n"
     ]
    }
   ],
   "source": [
    "%%time\n",
    "win=[]\n",
    "dist=[]\n",
    "inf=[]\n",
    "dist2=[]\n",
    "epochs=1\n",
    "for epoch in range(epochs):\n",
    "    for sample in X:\n",
    "\n",
    "        #find winner of grid\n",
    "        distances=torch.linalg.vector_norm(som_grid-sample,dim=2)\n",
    "        dist.append(distances)\n",
    "        winner=torch.argmin(distances)\n",
    "        win.append(winner)\n",
    "        #decay learning rate\n",
    "        lr*=0.99\n",
    "\n",
    "        #iterate over each element of Kohonen Layer\n",
    "        for i in range(grid[0]):\n",
    "            for j in range(grid[1]):\n",
    "                distance=torch.linalg.vector_norm(som_grid[i,j]-winner,2)\n",
    "                dist.append(distance)\n",
    "                #calculate influence\n",
    "                influence=mex_hat(distance,sigma=2)\n",
    "                influence=influence.detach()\n",
    "                inf.append(influence)\n",
    "                #update/increment perceptron weights\n",
    "                som_grid+=lr*influence*(sample-som_grid[i,j])\n",
    "\n"
   ]
  },
  {
   "cell_type": "code",
   "execution_count": 8,
   "id": "66e82513-2960-499c-a5b5-715d21216eb0",
   "metadata": {},
   "outputs": [
    {
     "data": {
      "text/plain": [
       "torch.Size([50, 3])"
      ]
     },
     "execution_count": 8,
     "metadata": {},
     "output_type": "execute_result"
    }
   ],
   "source": [
    "X.shape"
   ]
  },
  {
   "cell_type": "code",
   "execution_count": 9,
   "id": "9713bae6-24d0-423c-b410-4c762fec9c2a",
   "metadata": {},
   "outputs": [],
   "source": [
    "def main(epoch):\n",
    "    for sample in X:\n",
    "\n",
    "        #find winner of grid\n",
    "        winner=torch.argmin(torch.linalg.vector_norm(sample-copy,dim=2))\n",
    "\n",
    "        #initialize the sigma\n",
    "        sig=max(grid)/2\n",
    "\n",
    "        #decay learning rate\n",
    "        lr*=(1-1e-5)\n",
    "\n",
    "        #iterate over each element of Kohonen Layer\n",
    "        for i in range(grid[0]):\n",
    "            for j in range(grid[1]):\n",
    "                #calculate influence\n",
    "                influence=nbrs_func(torch.Tensor([i,j]),winner,sig)\n",
    "                influence=influence.detach()\n",
    "                #update/increment perceptron weights\n",
    "                copy+=lr*influence*(sample-copy[i,j])\n",
    "\n",
    "    som_grid.data=copy.data.clone()"
   ]
  },
  {
   "cell_type": "code",
   "execution_count": 19,
   "id": "4b4ab061-b7ef-4a87-b539-f23f5a538e1d",
   "metadata": {},
   "outputs": [],
   "source": [
    "class NeuralGas(nn.Module):\n",
    "    def __init__(self,input_dim,map_size,lr=1e-2,decay=0.9999):\n",
    "        super().__init__()\n",
    "        \n",
    "        self.learning_rate=lr\n",
    "        self.decay_rate=decay\n",
    "        self.map_size=map_size\n",
    "        \n",
    "        self.neurons=nn.Parameter(torch.rand(map_size,input_dim))\n",
    "        \n",
    "    def forward(self,x):\n",
    "        \n",
    "        dist=torch.linalg.vector_norm(x.unsqueeze(1)-self.neurons,dim=2)\n",
    "        \n",
    "        winner=torch.argmin(dist,dim=1)\n",
    "        \n",
    "        return winner\n",
    "        \n",
    "    def update(self,x,epoch):\n",
    "        lr=self.learning_rate * (self.decay_rate ** epoch)\n",
    "        winner=self.forward(x)\n",
    "        \n",
    "        for i in range(self.map_size):\n",
    "            mask=(winner == i).unsqueeze(1)\n",
    "            self.neurons.data[i]+=self.learning_rate*(x[mask.expand(50,3)].reshape(-1,3).mean(dim=0)\\\n",
    "                                                       -self.neurons.data[i])\n",
    "    "
   ]
  },
  {
   "cell_type": "code",
   "execution_count": 40,
   "id": "dafb699d-faee-42e7-beba-f25d87355215",
   "metadata": {},
   "outputs": [],
   "source": [
    "winner=model.forward(X)\n",
    "mask=(winner == i).unsqueeze(1)\n",
    "model.neurons.data[i]+=model.learning_rate*(X[mask.expand(50,3)].reshape(-1,3).mean(dim=0)\\\n",
    "                                                           -model.neurons.data[i])"
   ]
  },
  {
   "cell_type": "code",
   "execution_count": 29,
   "id": "0aa6e1fd-e790-4117-bc64-ae963a453b60",
   "metadata": {},
   "outputs": [],
   "source": [
    "winner=model.forward(X)\n",
    "for i in range(model.map_size):\n",
    "    mask=(winner == i).unsqueeze(1)\n",
    "    model.neurons.data[i]+=model.learning_rate*(X[mask.expand(50,3)].reshape(-1,3).mean(dim=0)\\\n",
    "                                                           -model.neurons.data[i])"
   ]
  },
  {
   "cell_type": "code",
   "execution_count": 39,
   "id": "23865014-e45c-4128-88e7-3cb0206d7c13",
   "metadata": {},
   "outputs": [
    {
     "data": {
      "text/plain": [
       "tensor([[0.5049, 0.5148, 0.4249],\n",
       "        [0.9875, 0.1051, 0.5308],\n",
       "        [0.5686, 0.4481, 0.6141],\n",
       "        ...,\n",
       "        [0.4956, 0.3393, 0.0039],\n",
       "        [0.9859, 0.8203, 0.1110],\n",
       "        [   nan,    nan,    nan]])"
      ]
     },
     "execution_count": 39,
     "metadata": {},
     "output_type": "execute_result"
    }
   ],
   "source": [
    "model.neurons.data"
   ]
  },
  {
   "cell_type": "code",
   "execution_count": 18,
   "id": "52eb3733-b55a-4f1b-b44d-055bcc6c726e",
   "metadata": {},
   "outputs": [
    {
     "data": {
      "text/plain": [
       "0.9607875174472561"
      ]
     },
     "execution_count": 18,
     "metadata": {},
     "output_type": "execute_result"
    }
   ],
   "source": [
    "(1-1e-4)**400"
   ]
  },
  {
   "cell_type": "code",
   "execution_count": null,
   "id": "66a733de-6d95-491b-900f-9242c1f72bac",
   "metadata": {},
   "outputs": [],
   "source": [
    "X[mask.expand(50,3)].reshape(-1,3)"
   ]
  },
  {
   "cell_type": "code",
   "execution_count": null,
   "id": "429fbeff-531c-406e-8fb3-cec4953f0ecb",
   "metadata": {},
   "outputs": [],
   "source": [
    "selected_values"
   ]
  },
  {
   "cell_type": "code",
   "execution_count": 33,
   "id": "12f636e1-975f-4420-b797-6b92ea81b833",
   "metadata": {},
   "outputs": [],
   "source": [
    "model=NeuralGas(input_dim=3,map_size=400,lr=24)\n",
    "epochs=100"
   ]
  },
  {
   "cell_type": "code",
   "execution_count": null,
   "id": "dc644ec6-d92f-40cf-87e0-65025355c2be",
   "metadata": {},
   "outputs": [],
   "source": [
    "z=X[mask.expand(50,3)].reshape(-1,3)"
   ]
  },
  {
   "cell_type": "code",
   "execution_count": 13,
   "id": "2c705d68-e4d1-48f8-8673-cdbd34a546df",
   "metadata": {},
   "outputs": [
    {
     "data": {
      "text/plain": [
       "torch.Size([400, 3])"
      ]
     },
     "execution_count": 13,
     "metadata": {},
     "output_type": "execute_result"
    }
   ],
   "source": [
    "model.neurons.shape"
   ]
  },
  {
   "cell_type": "code",
   "execution_count": null,
   "id": "d9318a67-2e40-4f03-b00f-f075bd53e9ed",
   "metadata": {},
   "outputs": [],
   "source": [
    "z.reshape(1,-1)"
   ]
  },
  {
   "cell_type": "code",
   "execution_count": null,
   "id": "cb5f68c5-2dd0-4e8e-8d5b-f8d331636bf4",
   "metadata": {},
   "outputs": [],
   "source": [
    "model.neurons.data[2].shape"
   ]
  },
  {
   "cell_type": "code",
   "execution_count": 21,
   "id": "476950a3-2095-4169-b2a4-004a6cb4bfc6",
   "metadata": {},
   "outputs": [],
   "source": [
    "for epoch in range(2):\n",
    "    model.update(X,epoch)\n",
    "    "
   ]
  },
  {
   "cell_type": "code",
   "execution_count": 23,
   "id": "1225c5f1-0aca-493a-962c-3b5d2dc09688",
   "metadata": {},
   "outputs": [
    {
     "data": {
      "text/plain": [
       "tensor([[nan, nan, nan],\n",
       "        [nan, nan, nan],\n",
       "        [nan, nan, nan],\n",
       "        ...,\n",
       "        [nan, nan, nan],\n",
       "        [nan, nan, nan],\n",
       "        [nan, nan, nan]])"
      ]
     },
     "execution_count": 23,
     "metadata": {},
     "output_type": "execute_result"
    }
   ],
   "source": [
    "model.neurons.data"
   ]
  },
  {
   "cell_type": "code",
   "execution_count": null,
   "id": "323aa0b5-f76c-4d06-89dc-ba8d63f20a60",
   "metadata": {},
   "outputs": [],
   "source": [
    "import concurrent.futures\n",
    "import multiprocessing\n",
    "epochs=2000\n",
    "num_cores = multiprocessing.cpu_count()\n",
    "with concurrent.futures.ProcessPoolExecutor(max_workers=num_cores) as executor:\n",
    "    # Submit the process_epoch function for each epoch in parallel\n",
    "    futures = [executor.submit(main, epoch) for epoch in range(epochs)]\n",
    "\n",
    "    # Wait for all tasks to complete\n",
    "    concurrent.futures.wait(futures)"
   ]
  },
  {
   "cell_type": "code",
   "execution_count": null,
   "id": "851eeda0-f182-4a2c-a766-a2d61b31e93b",
   "metadata": {},
   "outputs": [],
   "source": [
    "image=torch.sigmoid(som_grid).type(torch.float)"
   ]
  },
  {
   "cell_type": "code",
   "execution_count": null,
   "id": "58bbe413-70f2-4162-86e3-9c5484bfd9d5",
   "metadata": {},
   "outputs": [],
   "source": [
    "plt.matshow(image[:,:,1].detach().numpy())\n",
    "plt.colorbar()"
   ]
  },
  {
   "cell_type": "code",
   "execution_count": null,
   "id": "b6d42655-22d8-4cb9-b989-dffd1b40008e",
   "metadata": {},
   "outputs": [],
   "source": [
    "som_grid"
   ]
  },
  {
   "cell_type": "code",
   "execution_count": null,
   "id": "11ebf109-34f1-403b-9b65-9519e0223e3e",
   "metadata": {},
   "outputs": [],
   "source": [
    "import numpy as np\n",
    "import matplotlib.pyplot as plt\n",
    "\n",
    "# Assuming you have your SOM grid (som_grid) and data for calculation\n",
    "# Define a function to calculate Euclidean distance\n",
    "def euclidean_distance(a, b):\n",
    "    return np.linalg.norm(a - b)\n",
    "\n",
    "# Initialize the U-Matrix\n",
    "u_matrix = np.zeros(som_grid.shape[:2])\n",
    "\n",
    "# Iterate through each neuron in the SOM grid\n",
    "for i in range(som_grid.shape[0]):\n",
    "    for j in range(som_grid.shape[1]):\n",
    "        # Calculate the average distance to neighboring neurons\n",
    "        total_distance = 0\n",
    "        num_neighbors = 0\n",
    "        for x in range(i-1, i+2):\n",
    "            for y in range(j-1, j+2):\n",
    "                if 0 <= x < som_grid.shape[0] and 0 <= y < som_grid.shape[1]:\n",
    "                    total_distance += euclidean_distance(som_grid[i, j], som_grid[x, y])\n",
    "                    num_neighbors += 1\n",
    "        u_matrix[i, j] = total_distance / num_neighbors\n",
    "\n",
    "# Visualize the U-Matrix as a heatmap\n",
    "plt.imshow(u_matrix, cmap='viridis')  # You can choose a colormap of your preference\n",
    "plt.title('U-Matrix')\n",
    "plt.colorbar()\n",
    "plt.show()\n"
   ]
  },
  {
   "cell_type": "code",
   "execution_count": null,
   "id": "4c644e4c-218d-4439-a519-b06b91e7c8fc",
   "metadata": {},
   "outputs": [],
   "source": [
    "som_grid.shape"
   ]
  },
  {
   "cell_type": "code",
   "execution_count": null,
   "id": "a88703ec-105a-4b57-b3d6-b3840f85c98e",
   "metadata": {},
   "outputs": [],
   "source": [
    "x=0.2*0.99**50\n",
    "x"
   ]
  },
  {
   "cell_type": "code",
   "execution_count": null,
   "id": "d1ff8f9e-d251-4da7-903d-5c57c68b3281",
   "metadata": {},
   "outputs": [],
   "source": [
    "help(torch.argmin())"
   ]
  }
 ],
 "metadata": {
  "kernelspec": {
   "display_name": "Python 3 (ipykernel)",
   "language": "python",
   "name": "python3"
  },
  "language_info": {
   "codemirror_mode": {
    "name": "ipython",
    "version": 3
   },
   "file_extension": ".py",
   "mimetype": "text/x-python",
   "name": "python",
   "nbconvert_exporter": "python",
   "pygments_lexer": "ipython3",
   "version": "3.9.18"
  }
 },
 "nbformat": 4,
 "nbformat_minor": 5
}
