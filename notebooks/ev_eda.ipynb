{
 "cells": [
  {
   "cell_type": "code",
   "execution_count": 1,
   "id": "3b387242",
   "metadata": {},
   "outputs": [],
   "source": [
    "import pandas as pd\n",
    "import matplotlib.pyplot as plt\n",
    "import seaborn as sns\n",
    "import numpy as np"
   ]
  },
  {
   "cell_type": "code",
   "execution_count": 2,
   "id": "fa4f9754",
   "metadata": {},
   "outputs": [],
   "source": [
    "file_path = '/home/ibrahim/Downloads/data/Electric_Vehicle_Population_Data.csv'\n",
    "df = pd.read_csv(file_path)"
   ]
  },
  {
   "cell_type": "code",
   "execution_count": 3,
   "id": "b6aa2316-bf77-4c51-85dd-4480c702a806",
   "metadata": {},
   "outputs": [],
   "source": [
    "plt.style.use('ggplot')"
   ]
  },
  {
   "cell_type": "markdown",
   "id": "47e86b9f-b50d-4de9-a1ec-b05ba5f2295e",
   "metadata": {},
   "source": [
    "EXPLORATORY DATA ANALYSIS (EDA) AND DATA CLEANING:"
   ]
  },
  {
   "cell_type": "code",
   "execution_count": 4,
   "id": "cb4b2c90",
   "metadata": {},
   "outputs": [
    {
     "data": {
      "text/html": [
       "<div>\n",
       "<style scoped>\n",
       "    .dataframe tbody tr th:only-of-type {\n",
       "        vertical-align: middle;\n",
       "    }\n",
       "\n",
       "    .dataframe tbody tr th {\n",
       "        vertical-align: top;\n",
       "    }\n",
       "\n",
       "    .dataframe thead th {\n",
       "        text-align: right;\n",
       "    }\n",
       "</style>\n",
       "<table border=\"1\" class=\"dataframe\">\n",
       "  <thead>\n",
       "    <tr style=\"text-align: right;\">\n",
       "      <th></th>\n",
       "      <th>VIN (1-10)</th>\n",
       "      <th>County</th>\n",
       "      <th>City</th>\n",
       "      <th>State</th>\n",
       "      <th>Postal Code</th>\n",
       "      <th>Model Year</th>\n",
       "      <th>Make</th>\n",
       "      <th>Model</th>\n",
       "      <th>Electric Vehicle Type</th>\n",
       "      <th>Clean Alternative Fuel Vehicle (CAFV) Eligibility</th>\n",
       "      <th>Electric Range</th>\n",
       "      <th>Base MSRP</th>\n",
       "      <th>Legislative District</th>\n",
       "      <th>DOL Vehicle ID</th>\n",
       "      <th>Vehicle Location</th>\n",
       "      <th>Electric Utility</th>\n",
       "      <th>2020 Census Tract</th>\n",
       "    </tr>\n",
       "  </thead>\n",
       "  <tbody>\n",
       "    <tr>\n",
       "      <th>0</th>\n",
       "      <td>5UXTA6C03P</td>\n",
       "      <td>King</td>\n",
       "      <td>Seattle</td>\n",
       "      <td>WA</td>\n",
       "      <td>98177.0</td>\n",
       "      <td>2023</td>\n",
       "      <td>BMW</td>\n",
       "      <td>X5</td>\n",
       "      <td>Plug-in Hybrid Electric Vehicle (PHEV)</td>\n",
       "      <td>Clean Alternative Fuel Vehicle Eligible</td>\n",
       "      <td>30</td>\n",
       "      <td>0</td>\n",
       "      <td>36.0</td>\n",
       "      <td>218985539</td>\n",
       "      <td>POINT (-122.38242499999996 47.77279000000004)</td>\n",
       "      <td>CITY OF SEATTLE - (WA)|CITY OF TACOMA - (WA)</td>\n",
       "      <td>5.303300e+10</td>\n",
       "    </tr>\n",
       "    <tr>\n",
       "      <th>1</th>\n",
       "      <td>1FMCU0EZXN</td>\n",
       "      <td>Yakima</td>\n",
       "      <td>Moxee</td>\n",
       "      <td>WA</td>\n",
       "      <td>98936.0</td>\n",
       "      <td>2022</td>\n",
       "      <td>FORD</td>\n",
       "      <td>ESCAPE</td>\n",
       "      <td>Plug-in Hybrid Electric Vehicle (PHEV)</td>\n",
       "      <td>Clean Alternative Fuel Vehicle Eligible</td>\n",
       "      <td>38</td>\n",
       "      <td>0</td>\n",
       "      <td>15.0</td>\n",
       "      <td>197264322</td>\n",
       "      <td>POINT (-120.37951169999997 46.55609000000004)</td>\n",
       "      <td>PACIFICORP</td>\n",
       "      <td>5.307700e+10</td>\n",
       "    </tr>\n",
       "    <tr>\n",
       "      <th>2</th>\n",
       "      <td>1G1FW6S03J</td>\n",
       "      <td>King</td>\n",
       "      <td>Seattle</td>\n",
       "      <td>WA</td>\n",
       "      <td>98117.0</td>\n",
       "      <td>2018</td>\n",
       "      <td>CHEVROLET</td>\n",
       "      <td>BOLT EV</td>\n",
       "      <td>Battery Electric Vehicle (BEV)</td>\n",
       "      <td>Clean Alternative Fuel Vehicle Eligible</td>\n",
       "      <td>238</td>\n",
       "      <td>0</td>\n",
       "      <td>36.0</td>\n",
       "      <td>168549727</td>\n",
       "      <td>POINT (-122.37275999999997 47.689685000000054)</td>\n",
       "      <td>CITY OF SEATTLE - (WA)|CITY OF TACOMA - (WA)</td>\n",
       "      <td>5.303300e+10</td>\n",
       "    </tr>\n",
       "    <tr>\n",
       "      <th>3</th>\n",
       "      <td>5YJSA1AC0D</td>\n",
       "      <td>King</td>\n",
       "      <td>Newcastle</td>\n",
       "      <td>WA</td>\n",
       "      <td>98059.0</td>\n",
       "      <td>2013</td>\n",
       "      <td>TESLA</td>\n",
       "      <td>MODEL S</td>\n",
       "      <td>Battery Electric Vehicle (BEV)</td>\n",
       "      <td>Clean Alternative Fuel Vehicle Eligible</td>\n",
       "      <td>208</td>\n",
       "      <td>69900</td>\n",
       "      <td>41.0</td>\n",
       "      <td>244891062</td>\n",
       "      <td>POINT (-122.15733999999998 47.487175000000036)</td>\n",
       "      <td>PUGET SOUND ENERGY INC||CITY OF TACOMA - (WA)</td>\n",
       "      <td>5.303303e+10</td>\n",
       "    </tr>\n",
       "    <tr>\n",
       "      <th>4</th>\n",
       "      <td>1FADP5CU8F</td>\n",
       "      <td>Kitsap</td>\n",
       "      <td>Bremerton</td>\n",
       "      <td>WA</td>\n",
       "      <td>98312.0</td>\n",
       "      <td>2015</td>\n",
       "      <td>FORD</td>\n",
       "      <td>C-MAX</td>\n",
       "      <td>Plug-in Hybrid Electric Vehicle (PHEV)</td>\n",
       "      <td>Not eligible due to low battery range</td>\n",
       "      <td>19</td>\n",
       "      <td>0</td>\n",
       "      <td>26.0</td>\n",
       "      <td>134915000</td>\n",
       "      <td>POINT (-122.65223 47.57192)</td>\n",
       "      <td>PUGET SOUND ENERGY INC</td>\n",
       "      <td>5.303508e+10</td>\n",
       "    </tr>\n",
       "  </tbody>\n",
       "</table>\n",
       "</div>"
      ],
      "text/plain": [
       "   VIN (1-10)  County       City State  Postal Code  Model Year       Make  \\\n",
       "0  5UXTA6C03P    King    Seattle    WA      98177.0        2023        BMW   \n",
       "1  1FMCU0EZXN  Yakima      Moxee    WA      98936.0        2022       FORD   \n",
       "2  1G1FW6S03J    King    Seattle    WA      98117.0        2018  CHEVROLET   \n",
       "3  5YJSA1AC0D    King  Newcastle    WA      98059.0        2013      TESLA   \n",
       "4  1FADP5CU8F  Kitsap  Bremerton    WA      98312.0        2015       FORD   \n",
       "\n",
       "     Model                   Electric Vehicle Type  \\\n",
       "0       X5  Plug-in Hybrid Electric Vehicle (PHEV)   \n",
       "1   ESCAPE  Plug-in Hybrid Electric Vehicle (PHEV)   \n",
       "2  BOLT EV          Battery Electric Vehicle (BEV)   \n",
       "3  MODEL S          Battery Electric Vehicle (BEV)   \n",
       "4    C-MAX  Plug-in Hybrid Electric Vehicle (PHEV)   \n",
       "\n",
       "  Clean Alternative Fuel Vehicle (CAFV) Eligibility  Electric Range  \\\n",
       "0           Clean Alternative Fuel Vehicle Eligible              30   \n",
       "1           Clean Alternative Fuel Vehicle Eligible              38   \n",
       "2           Clean Alternative Fuel Vehicle Eligible             238   \n",
       "3           Clean Alternative Fuel Vehicle Eligible             208   \n",
       "4             Not eligible due to low battery range              19   \n",
       "\n",
       "   Base MSRP  Legislative District  DOL Vehicle ID  \\\n",
       "0          0                  36.0       218985539   \n",
       "1          0                  15.0       197264322   \n",
       "2          0                  36.0       168549727   \n",
       "3      69900                  41.0       244891062   \n",
       "4          0                  26.0       134915000   \n",
       "\n",
       "                                 Vehicle Location  \\\n",
       "0   POINT (-122.38242499999996 47.77279000000004)   \n",
       "1   POINT (-120.37951169999997 46.55609000000004)   \n",
       "2  POINT (-122.37275999999997 47.689685000000054)   \n",
       "3  POINT (-122.15733999999998 47.487175000000036)   \n",
       "4                     POINT (-122.65223 47.57192)   \n",
       "\n",
       "                                Electric Utility  2020 Census Tract  \n",
       "0   CITY OF SEATTLE - (WA)|CITY OF TACOMA - (WA)       5.303300e+10  \n",
       "1                                     PACIFICORP       5.307700e+10  \n",
       "2   CITY OF SEATTLE - (WA)|CITY OF TACOMA - (WA)       5.303300e+10  \n",
       "3  PUGET SOUND ENERGY INC||CITY OF TACOMA - (WA)       5.303303e+10  \n",
       "4                         PUGET SOUND ENERGY INC       5.303508e+10  "
      ]
     },
     "execution_count": 4,
     "metadata": {},
     "output_type": "execute_result"
    }
   ],
   "source": [
    "df.head()"
   ]
  },
  {
   "cell_type": "code",
   "execution_count": 5,
   "id": "5a4488ce-90fa-439a-b893-f82cdc6145e6",
   "metadata": {},
   "outputs": [],
   "source": [
    "import data_tools as dt\n",
    "df.columns = dt.df_col(df.columns.tolist(),20)"
   ]
  },
  {
   "cell_type": "code",
   "execution_count": 6,
   "id": "a9b0d19f",
   "metadata": {},
   "outputs": [
    {
     "data": {
      "text/plain": [
       "['vin',\n",
       " 'county',\n",
       " 'city',\n",
       " 'state',\n",
       " 'postal_code',\n",
       " 'model_year',\n",
       " 'make',\n",
       " 'model',\n",
       " 'evt',\n",
       " 'cafve',\n",
       " 'electric_range',\n",
       " 'base_msrp',\n",
       " 'legislative_district',\n",
       " 'dol_vehicle_id',\n",
       " 'vehicle_location',\n",
       " 'electric_utility',\n",
       " '2020_census_tract']"
      ]
     },
     "execution_count": 6,
     "metadata": {},
     "output_type": "execute_result"
    }
   ],
   "source": [
    "# df_col(df.columns.to_list(),15)\n",
    "col_list=df.columns.to_list()\n",
    "col_list"
   ]
  },
  {
   "cell_type": "code",
   "execution_count": 7,
   "id": "7c2058b3",
   "metadata": {},
   "outputs": [
    {
     "name": "stdout",
     "output_type": "stream",
     "text": [
      "<class 'pandas.core.frame.DataFrame'>\n",
      "RangeIndex: 143596 entries, 0 to 143595\n",
      "Data columns (total 17 columns):\n",
      " #   Column                Non-Null Count   Dtype  \n",
      "---  ------                --------------   -----  \n",
      " 0   vin                   143596 non-null  object \n",
      " 1   county                143574 non-null  object \n",
      " 2   city                  143574 non-null  object \n",
      " 3   state                 143596 non-null  object \n",
      " 4   postal_code           143574 non-null  float64\n",
      " 5   model_year            143596 non-null  int64  \n",
      " 6   make                  143596 non-null  object \n",
      " 7   model                 143596 non-null  object \n",
      " 8   evt                   143596 non-null  object \n",
      " 9   cafve                 143596 non-null  object \n",
      " 10  electric_range        143596 non-null  int64  \n",
      " 11  base_msrp             143596 non-null  int64  \n",
      " 12  legislative_district  143269 non-null  float64\n",
      " 13  dol_vehicle_id        143596 non-null  int64  \n",
      " 14  vehicle_location      143571 non-null  object \n",
      " 15  electric_utility      143574 non-null  object \n",
      " 16  2020_census_tract     143574 non-null  float64\n",
      "dtypes: float64(3), int64(4), object(10)\n",
      "memory usage: 18.6+ MB\n"
     ]
    }
   ],
   "source": [
    "df.info()"
   ]
  },
  {
   "cell_type": "code",
   "execution_count": 8,
   "id": "3b2b876a",
   "metadata": {},
   "outputs": [
    {
     "data": {
      "text/html": [
       "<div>\n",
       "<style scoped>\n",
       "    .dataframe tbody tr th:only-of-type {\n",
       "        vertical-align: middle;\n",
       "    }\n",
       "\n",
       "    .dataframe tbody tr th {\n",
       "        vertical-align: top;\n",
       "    }\n",
       "\n",
       "    .dataframe thead th {\n",
       "        text-align: right;\n",
       "    }\n",
       "</style>\n",
       "<table border=\"1\" class=\"dataframe\">\n",
       "  <thead>\n",
       "    <tr style=\"text-align: right;\">\n",
       "      <th></th>\n",
       "      <th>postal_code</th>\n",
       "      <th>model_year</th>\n",
       "      <th>electric_range</th>\n",
       "      <th>base_msrp</th>\n",
       "      <th>legislative_district</th>\n",
       "      <th>dol_vehicle_id</th>\n",
       "      <th>2020_census_tract</th>\n",
       "    </tr>\n",
       "  </thead>\n",
       "  <tbody>\n",
       "    <tr>\n",
       "      <th>count</th>\n",
       "      <td>143574.000000</td>\n",
       "      <td>143596.000000</td>\n",
       "      <td>143596.000000</td>\n",
       "      <td>143596.000000</td>\n",
       "      <td>143269.000000</td>\n",
       "      <td>1.435960e+05</td>\n",
       "      <td>1.435740e+05</td>\n",
       "    </tr>\n",
       "    <tr>\n",
       "      <th>mean</th>\n",
       "      <td>98175.212824</td>\n",
       "      <td>2019.865574</td>\n",
       "      <td>70.495738</td>\n",
       "      <td>1373.386515</td>\n",
       "      <td>29.371748</td>\n",
       "      <td>2.092015e+08</td>\n",
       "      <td>5.297590e+10</td>\n",
       "    </tr>\n",
       "    <tr>\n",
       "      <th>std</th>\n",
       "      <td>2383.169088</td>\n",
       "      <td>3.016004</td>\n",
       "      <td>97.128735</td>\n",
       "      <td>9450.067747</td>\n",
       "      <td>14.823899</td>\n",
       "      <td>8.353700e+07</td>\n",
       "      <td>1.594040e+09</td>\n",
       "    </tr>\n",
       "    <tr>\n",
       "      <th>min</th>\n",
       "      <td>1730.000000</td>\n",
       "      <td>1997.000000</td>\n",
       "      <td>0.000000</td>\n",
       "      <td>0.000000</td>\n",
       "      <td>1.000000</td>\n",
       "      <td>4.385000e+03</td>\n",
       "      <td>1.081042e+09</td>\n",
       "    </tr>\n",
       "    <tr>\n",
       "      <th>25%</th>\n",
       "      <td>98052.000000</td>\n",
       "      <td>2018.000000</td>\n",
       "      <td>0.000000</td>\n",
       "      <td>0.000000</td>\n",
       "      <td>18.000000</td>\n",
       "      <td>1.668338e+08</td>\n",
       "      <td>5.303301e+10</td>\n",
       "    </tr>\n",
       "    <tr>\n",
       "      <th>50%</th>\n",
       "      <td>98122.000000</td>\n",
       "      <td>2021.000000</td>\n",
       "      <td>19.000000</td>\n",
       "      <td>0.000000</td>\n",
       "      <td>33.000000</td>\n",
       "      <td>2.111039e+08</td>\n",
       "      <td>5.303303e+10</td>\n",
       "    </tr>\n",
       "    <tr>\n",
       "      <th>75%</th>\n",
       "      <td>98370.000000</td>\n",
       "      <td>2022.000000</td>\n",
       "      <td>111.000000</td>\n",
       "      <td>0.000000</td>\n",
       "      <td>43.000000</td>\n",
       "      <td>2.364520e+08</td>\n",
       "      <td>5.305307e+10</td>\n",
       "    </tr>\n",
       "    <tr>\n",
       "      <th>max</th>\n",
       "      <td>99403.000000</td>\n",
       "      <td>2024.000000</td>\n",
       "      <td>337.000000</td>\n",
       "      <td>845000.000000</td>\n",
       "      <td>49.000000</td>\n",
       "      <td>4.792548e+08</td>\n",
       "      <td>5.603300e+10</td>\n",
       "    </tr>\n",
       "  </tbody>\n",
       "</table>\n",
       "</div>"
      ],
      "text/plain": [
       "         postal_code     model_year  electric_range      base_msrp  \\\n",
       "count  143574.000000  143596.000000   143596.000000  143596.000000   \n",
       "mean    98175.212824    2019.865574       70.495738    1373.386515   \n",
       "std      2383.169088       3.016004       97.128735    9450.067747   \n",
       "min      1730.000000    1997.000000        0.000000       0.000000   \n",
       "25%     98052.000000    2018.000000        0.000000       0.000000   \n",
       "50%     98122.000000    2021.000000       19.000000       0.000000   \n",
       "75%     98370.000000    2022.000000      111.000000       0.000000   \n",
       "max     99403.000000    2024.000000      337.000000  845000.000000   \n",
       "\n",
       "       legislative_district  dol_vehicle_id  2020_census_tract  \n",
       "count         143269.000000    1.435960e+05       1.435740e+05  \n",
       "mean              29.371748    2.092015e+08       5.297590e+10  \n",
       "std               14.823899    8.353700e+07       1.594040e+09  \n",
       "min                1.000000    4.385000e+03       1.081042e+09  \n",
       "25%               18.000000    1.668338e+08       5.303301e+10  \n",
       "50%               33.000000    2.111039e+08       5.303303e+10  \n",
       "75%               43.000000    2.364520e+08       5.305307e+10  \n",
       "max               49.000000    4.792548e+08       5.603300e+10  "
      ]
     },
     "execution_count": 8,
     "metadata": {},
     "output_type": "execute_result"
    }
   ],
   "source": [
    "df.describe()"
   ]
  },
  {
   "cell_type": "code",
   "execution_count": 9,
   "id": "10136548-dadd-4b77-beed-12a6ca031957",
   "metadata": {},
   "outputs": [
    {
     "data": {
      "text/html": [
       "<div>\n",
       "<style scoped>\n",
       "    .dataframe tbody tr th:only-of-type {\n",
       "        vertical-align: middle;\n",
       "    }\n",
       "\n",
       "    .dataframe tbody tr th {\n",
       "        vertical-align: top;\n",
       "    }\n",
       "\n",
       "    .dataframe thead th {\n",
       "        text-align: right;\n",
       "    }\n",
       "</style>\n",
       "<table border=\"1\" class=\"dataframe\">\n",
       "  <thead>\n",
       "    <tr style=\"text-align: right;\">\n",
       "      <th></th>\n",
       "      <th>columns</th>\n",
       "      <th>count</th>\n",
       "    </tr>\n",
       "  </thead>\n",
       "  <tbody>\n",
       "    <tr>\n",
       "      <th>0</th>\n",
       "      <td>vin</td>\n",
       "      <td>0</td>\n",
       "    </tr>\n",
       "    <tr>\n",
       "      <th>1</th>\n",
       "      <td>county</td>\n",
       "      <td>0</td>\n",
       "    </tr>\n",
       "    <tr>\n",
       "      <th>2</th>\n",
       "      <td>city</td>\n",
       "      <td>0</td>\n",
       "    </tr>\n",
       "    <tr>\n",
       "      <th>3</th>\n",
       "      <td>state</td>\n",
       "      <td>0</td>\n",
       "    </tr>\n",
       "    <tr>\n",
       "      <th>4</th>\n",
       "      <td>postal_code</td>\n",
       "      <td>0</td>\n",
       "    </tr>\n",
       "    <tr>\n",
       "      <th>5</th>\n",
       "      <td>model_year</td>\n",
       "      <td>0</td>\n",
       "    </tr>\n",
       "    <tr>\n",
       "      <th>6</th>\n",
       "      <td>make</td>\n",
       "      <td>0</td>\n",
       "    </tr>\n",
       "    <tr>\n",
       "      <th>7</th>\n",
       "      <td>model</td>\n",
       "      <td>0</td>\n",
       "    </tr>\n",
       "    <tr>\n",
       "      <th>8</th>\n",
       "      <td>evt</td>\n",
       "      <td>0</td>\n",
       "    </tr>\n",
       "    <tr>\n",
       "      <th>9</th>\n",
       "      <td>cafve</td>\n",
       "      <td>0</td>\n",
       "    </tr>\n",
       "    <tr>\n",
       "      <th>10</th>\n",
       "      <td>electric_range</td>\n",
       "      <td>0</td>\n",
       "    </tr>\n",
       "    <tr>\n",
       "      <th>11</th>\n",
       "      <td>base_msrp</td>\n",
       "      <td>0</td>\n",
       "    </tr>\n",
       "    <tr>\n",
       "      <th>12</th>\n",
       "      <td>legislative_district</td>\n",
       "      <td>0</td>\n",
       "    </tr>\n",
       "    <tr>\n",
       "      <th>13</th>\n",
       "      <td>dol_vehicle_id</td>\n",
       "      <td>0</td>\n",
       "    </tr>\n",
       "    <tr>\n",
       "      <th>14</th>\n",
       "      <td>vehicle_location</td>\n",
       "      <td>0</td>\n",
       "    </tr>\n",
       "    <tr>\n",
       "      <th>15</th>\n",
       "      <td>electric_utility</td>\n",
       "      <td>0</td>\n",
       "    </tr>\n",
       "    <tr>\n",
       "      <th>16</th>\n",
       "      <td>2020_census_tract</td>\n",
       "      <td>0</td>\n",
       "    </tr>\n",
       "  </tbody>\n",
       "</table>\n",
       "</div>"
      ],
      "text/plain": [
       "                 columns  count\n",
       "0                    vin      0\n",
       "1                 county      0\n",
       "2                   city      0\n",
       "3                  state      0\n",
       "4            postal_code      0\n",
       "5             model_year      0\n",
       "6                   make      0\n",
       "7                  model      0\n",
       "8                    evt      0\n",
       "9                  cafve      0\n",
       "10        electric_range      0\n",
       "11             base_msrp      0\n",
       "12  legislative_district      0\n",
       "13        dol_vehicle_id      0\n",
       "14      vehicle_location      0\n",
       "15      electric_utility      0\n",
       "16     2020_census_tract      0"
      ]
     },
     "execution_count": 9,
     "metadata": {},
     "output_type": "execute_result"
    }
   ],
   "source": [
    "na_count=list()\n",
    "col=list()\n",
    "for i in df.columns:\n",
    "    na_count.append(df[df[i].isna()==True][i].count())\n",
    "    col.append(i)\n",
    "df_na=pd.DataFrame({'columns':col,'count':na_count})\n",
    "df_na"
   ]
  },
  {
   "cell_type": "code",
   "execution_count": 10,
   "id": "0db07c38",
   "metadata": {},
   "outputs": [
    {
     "name": "stdout",
     "output_type": "stream",
     "text": [
      "<class 'pandas.core.frame.DataFrame'>\n",
      "Int64Index: 143266 entries, 0 to 143595\n",
      "Data columns (total 17 columns):\n",
      " #   Column                Non-Null Count   Dtype  \n",
      "---  ------                --------------   -----  \n",
      " 0   vin                   143266 non-null  object \n",
      " 1   county                143266 non-null  object \n",
      " 2   city                  143266 non-null  object \n",
      " 3   state                 143266 non-null  object \n",
      " 4   postal_code           143266 non-null  float64\n",
      " 5   model_year            143266 non-null  int64  \n",
      " 6   make                  143266 non-null  object \n",
      " 7   model                 143266 non-null  object \n",
      " 8   evt                   143266 non-null  object \n",
      " 9   cafve                 143266 non-null  object \n",
      " 10  electric_range        143266 non-null  int64  \n",
      " 11  base_msrp             143266 non-null  int64  \n",
      " 12  legislative_district  143266 non-null  float64\n",
      " 13  dol_vehicle_id        143266 non-null  int64  \n",
      " 14  vehicle_location      143266 non-null  object \n",
      " 15  electric_utility      143266 non-null  object \n",
      " 16  2020_census_tract     143266 non-null  float64\n",
      "dtypes: float64(3), int64(4), object(10)\n",
      "memory usage: 19.7+ MB\n"
     ]
    }
   ],
   "source": [
    "df = df.dropna()\n",
    "df.info()"
   ]
  },
  {
   "cell_type": "code",
   "execution_count": 11,
   "id": "1d546697-16b1-4db9-b0d3-d3d64094f81f",
   "metadata": {},
   "outputs": [],
   "source": [
    "df['dummy'] = 1"
   ]
  },
  {
   "cell_type": "code",
   "execution_count": 12,
   "id": "1ce02265-4d55-408e-94ce-0a2206baefa4",
   "metadata": {},
   "outputs": [
    {
     "data": {
      "text/plain": [
       "Text(0.5, 1.0, 'Correlation Matrix of Numeric Columns in DataFramewhy is iloc not working in dask')"
      ]
     },
     "execution_count": 12,
     "metadata": {},
     "output_type": "execute_result"
    },
    {
     "data": {
      "image/png": "[encoded data removed]",
      "text/plain": [
       "<Figure size 640x480 with 2 Axes>"
      ]
     },
     "metadata": {},
     "output_type": "display_data"
    }
   ],
   "source": [
    "corr_mat = df.corr()\n",
    "sns.heatmap(corr_mat ,annot = True,fmt='.2f',cmap='RdBu_r')\n",
    "plt.title('Correlation Matrix of Numeric Columns in DataFramewhy is iloc not working in dask')"
   ]
  },
  {
   "cell_type": "markdown",
   "id": "26f7a245-8b36-4e79-8451-0a8f1d05bc7b",
   "metadata": {},
   "source": [
    "SPLIT THE DATAFRAME TO ONLY EXPLORE ELECTRIC VEHICLES FOR NOW (DATA ANALYSIS OF EV):"
   ]
  },
  {
   "cell_type": "code",
   "execution_count": 13,
   "id": "e8983e86",
   "metadata": {},
   "outputs": [
    {
     "name": "stdout",
     "output_type": "stream",
     "text": [
      "vin                     63840\n",
      "county                  63840\n",
      "city                    63840\n",
      "state                   63840\n",
      "postal_code             63840\n",
      "model_year              63840\n",
      "make                    63840\n",
      "model                   63840\n",
      "evt                     63840\n",
      "cafve                   63840\n",
      "electric_range          63840\n",
      "base_msrp               63840\n",
      "legislative_district    63840\n",
      "dol_vehicle_id          63840\n",
      "vehicle_location        63840\n",
      "electric_utility        63840\n",
      "2020_census_tract       63840\n",
      "dummy                   63840\n",
      "dtype: int64\n"
     ]
    }
   ],
   "source": [
    "df_ev = df[df.evt.isin(['Battery Electric Vehicle (BEV)'])]\n",
    "print(df_ev[df_ev.electric_range==0].count())"
   ]
  },
  {
   "cell_type": "code",
   "execution_count": 14,
   "id": "5240cddf",
   "metadata": {},
   "outputs": [],
   "source": [
    "df_ev2 = df_ev[df_ev['cafve']=='Clean Alternative Fuel Vehicle Eligible']"
   ]
  },
  {
   "cell_type": "code",
   "execution_count": 15,
   "id": "c0519b00",
   "metadata": {},
   "outputs": [
    {
     "name": "stdout",
     "output_type": "stream",
     "text": [
      "vin                     0\n",
      "county                  0\n",
      "city                    0\n",
      "state                   0\n",
      "postal_code             0\n",
      "model_year              0\n",
      "make                    0\n",
      "model                   0\n",
      "evt                     0\n",
      "cafve                   0\n",
      "electric_range          0\n",
      "base_msrp               0\n",
      "legislative_district    0\n",
      "dol_vehicle_id          0\n",
      "vehicle_location        0\n",
      "electric_utility        0\n",
      "2020_census_tract       0\n",
      "dummy                   0\n",
      "dtype: int64\n"
     ]
    }
   ],
   "source": [
    "print(df_ev2[df_ev2['electric_range']==0].count())"
   ]
  },
  {
   "cell_type": "code",
   "execution_count": 16,
   "id": "76a38c07",
   "metadata": {},
   "outputs": [
    {
     "data": {
      "image/png": "[encoded data removed]",
      "text/plain": [
       "<Figure size 640x480 with 1 Axes>"
      ]
     },
     "metadata": {},
     "output_type": "display_data"
    }
   ],
   "source": [
    "avg_rng_mk = df_ev2.groupby('make')['electric_range'].agg('mean')\n",
    "ev_make = df_ev2['make'].sort_values().unique()\n",
    "avg_rng=pd.DataFrame({'make':ev_make,'avg_rng':avg_rng_mk})\n",
    "plt.bar(avg_rng['make'],avg_rng['avg_rng'],color='b',alpha=0.7)\n",
    "plt.xlabel('Make')\n",
    "plt.ylabel(\"Mean Range(km)\")\n",
    "plt.title('Avg Range by Make(EV)')\n",
    "plt.xticks(rotation = 90)\n",
    "plt.show()"
   ]
  },
  {
   "cell_type": "code",
   "execution_count": 17,
   "id": "41d447f3-abea-413b-bff4-842f351775c9",
   "metadata": {},
   "outputs": [
    {
     "data": {
      "text/plain": [
       "make\n",
       "AUDI              209.367250\n",
       "AZURE DYNAMICS     56.000000\n",
       "BMW                99.437838\n",
       "CHEVROLET         233.241736\n",
       "FIAT               85.626683\n",
       "FORD               78.054054\n",
       "HYUNDAI           234.914062\n",
       "JAGUAR            234.000000\n",
       "KIA               176.213756\n",
       "MERCEDES-BENZ      87.000000\n",
       "MINI              110.000000\n",
       "MITSUBISHI         61.950820\n",
       "NISSAN            103.698266\n",
       "POLESTAR          233.000000\n",
       "PORSCHE           198.578431\n",
       "SMART              62.313653\n",
       "TESLA             240.243914\n",
       "TH!NK             100.000000\n",
       "TOYOTA            102.600000\n",
       "VOLKSWAGEN        107.284916\n",
       "Name: electric_range, dtype: float64"
      ]
     },
     "execution_count": 17,
     "metadata": {},
     "output_type": "execute_result"
    }
   ],
   "source": [
    "avg_rng_mk"
   ]
  },
  {
   "cell_type": "code",
   "execution_count": 18,
   "id": "e1dae937-3c7a-458f-bc76-c891f003e490",
   "metadata": {},
   "outputs": [
    {
     "ename": "NameError",
     "evalue": "name 'ax' is not defined",
     "output_type": "error",
     "traceback": [
      "\u001b[0;31m---------------------------------------------------------------------------\u001b[0m",
      "\u001b[0;31mNameError\u001b[0m                                 Traceback (most recent call last)",
      "Cell \u001b[0;32mIn[18], line 1\u001b[0m\n\u001b[0;32m----> 1\u001b[0m \u001b[43mdt\u001b[49m\u001b[38;5;241;43m.\u001b[39;49m\u001b[43mradar_chart\u001b[49m\u001b[43m(\u001b[49m\u001b[43mdf\u001b[49m\u001b[38;5;241;43m=\u001b[39;49m\u001b[43mavg_rng\u001b[49m\u001b[43m,\u001b[49m\u001b[43mcategories\u001b[49m\u001b[38;5;241;43m=\u001b[39;49m\u001b[38;5;124;43m'\u001b[39;49m\u001b[38;5;124;43mmake\u001b[39;49m\u001b[38;5;124;43m'\u001b[39;49m\u001b[43m,\u001b[49m\u001b[43mvalues\u001b[49m\u001b[38;5;241;43m=\u001b[39;49m\u001b[38;5;124;43m'\u001b[39;49m\u001b[38;5;124;43mavg_rng\u001b[39;49m\u001b[38;5;124;43m'\u001b[39;49m\u001b[43m)\u001b[49m\n",
      "File \u001b[0;32m~/data_science/projects/data_tools.py:127\u001b[0m, in \u001b[0;36mradar_chart\u001b[0;34m(df, categories, values, title, fill, color)\u001b[0m\n\u001b[1;32m    125\u001b[0m \u001b[38;5;28;01mif\u001b[39;00m fill\u001b[38;5;241m==\u001b[39m\u001b[38;5;28;01mTrue\u001b[39;00m:\n\u001b[1;32m    126\u001b[0m     plt\u001b[38;5;241m.\u001b[39mfill(angles, values, color, alpha\u001b[38;5;241m=\u001b[39m\u001b[38;5;241m0.1\u001b[39m)\n\u001b[0;32m--> 127\u001b[0m \u001b[43max\u001b[49m\u001b[38;5;241m.\u001b[39mplot(angles, values, color, linewidth\u001b[38;5;241m=\u001b[39m\u001b[38;5;241m2\u001b[39m)\n\u001b[1;32m    129\u001b[0m ax\u001b[38;5;241m.\u001b[39mset_xticks(angles[:\u001b[38;5;241m-\u001b[39m\u001b[38;5;241m1\u001b[39m])\n\u001b[1;32m    130\u001b[0m ax\u001b[38;5;241m.\u001b[39mset_xticklabels(categories)\n",
      "\u001b[0;31mNameError\u001b[0m: name 'ax' is not defined"
     ]
    },
    {
     "data": {
      "image/png": "[encoded data removed]",
      "text/plain": [
       "<Figure size 640x480 with 1 Axes>"
      ]
     },
     "metadata": {},
     "output_type": "display_data"
    }
   ],
   "source": [
    "dt.radar_chart(df=avg_rng,categories='make',values='avg_rng')"
   ]
  },
  {
   "cell_type": "code",
   "execution_count": null,
   "id": "1239a3d6-be86-4e61-b697-5970eb7b80e3",
   "metadata": {},
   "outputs": [],
   "source": [
    "ax=sns.boxplot(data=df_ev2,x='electric_range',y='make',color='b')\n",
    "plt.title('Electric Range by Make of EVs')\n",
    "plt.ylabel('Make')\n",
    "plt.xlabel('Electric Range (Miles)')"
   ]
  },
  {
   "cell_type": "code",
   "execution_count": null,
   "id": "f9b3c5f7-806e-4cb4-871e-d7b17a8b3b64",
   "metadata": {},
   "outputs": [],
   "source": [
    "ev_count = df_ev['make'].value_counts()\n",
    "ev_count.plot(kind='bar',color='b',alpha=0.7,logy=True)\n",
    "plt.title('Number of EVs by make')\n",
    "plt.ylabel('Number of vehicles (logarithmic)')\n",
    "plt.xlabel('Make')"
   ]
  },
  {
   "cell_type": "code",
   "execution_count": null,
   "id": "840aed54-15a5-45f6-8288-9eb2b89b4b91",
   "metadata": {},
   "outputs": [],
   "source": [
    "ev_count"
   ]
  },
  {
   "cell_type": "code",
   "execution_count": null,
   "id": "c8ebea0d-0497-4611-84ac-7f5a5bb703b7",
   "metadata": {},
   "outputs": [],
   "source": [
    "evt_count = pd.pivot_table(data=df,columns='evt',values='dummy',aggfunc='sum',index='make')\n",
    "evt_count.plot(kind='bar',logy=True,figsize=(10,6))\n",
    "plt.title('Number of Vehicle by Make and Type')\n",
    "plt.xlabel('Make')\n",
    "plt.ylabel('Number of Vehicles (logarithmic)')"
   ]
  },
  {
   "cell_type": "code",
   "execution_count": null,
   "id": "e79710e1-31ba-4169-a3b1-190a57085cfb",
   "metadata": {},
   "outputs": [],
   "source": [
    "ev_count"
   ]
  },
  {
   "cell_type": "code",
   "execution_count": null,
   "id": "325bb7f5",
   "metadata": {},
   "outputs": [],
   "source": [
    "print(avg_rng_mk)"
   ]
  },
  {
   "cell_type": "code",
   "execution_count": null,
   "id": "1e5e4e3d",
   "metadata": {},
   "outputs": [],
   "source": [
    "year = df_ev['model_year'].sort_values(ascending=True).unique()\n",
    "avg_rng_yr = df_ev.groupby('model_year')['electric_range'].agg('mean')\n",
    "avg_rng_yr=pd.DataFrame({'year':year,'avg_rng':avg_rng_yr})\n",
    "\n",
    "plt.scatter(avg_rng_yr['year'], avg_rng_yr['avg_rng'], linestyle = 'dotted', marker = 'x', color = 'blue')\n",
    "dt.trendline(avg_rng_yr,x='year',y='avg_rng',extend=2025,deg=3)\n",
    "plt.xlabel('Model Year')\n",
    "plt.ylabel('Range(Miles)')\n",
    "plt.title('Range by Model Year (EV)')\n",
    "plt.show()"
   ]
  },
  {
   "cell_type": "code",
   "execution_count": null,
   "id": "03ad4cb3",
   "metadata": {},
   "outputs": [],
   "source": [
    "sns.kdeplot(data=df_ev['electric_range'],multiple='layer',c='blue')\n",
    "plt.title('Electric Range distribution (KDE)')\n",
    "plt.xlabel('Electric Range(km)')"
   ]
  },
  {
   "cell_type": "code",
   "execution_count": null,
   "id": "9214f32a",
   "metadata": {},
   "outputs": [],
   "source": [
    "sns.histplot(x=df_ev2['electric_range'],bins=40,color='b',alpha=0.7,stat='proportion')\n",
    "sns.ecdfplot(df_ev2['electric_range'],color='r',stat='proportion')\n",
    "plt.title('Electric Range Distribution (Histogram)')\n",
    "plt.show()"
   ]
  },
  {
   "cell_type": "code",
   "execution_count": null,
   "id": "2d620c25",
   "metadata": {},
   "outputs": [],
   "source": [
    "corr_ev = df_ev.corr()\n",
    "sns.heatmap(corr_ev,annot=True,fmt='.2f')"
   ]
  },
  {
   "cell_type": "code",
   "execution_count": null,
   "id": "36753e6c",
   "metadata": {},
   "outputs": [],
   "source": [
    "rng_make_yr = pd.pivot_table(data=df_ev,values='electric_range',columns='model_year',index='make',aggfunc='mean')\n",
    "rng_make_yr"
   ]
  },
  {
   "cell_type": "code",
   "execution_count": null,
   "id": "ad055510",
   "metadata": {},
   "outputs": [],
   "source": [
    "df_ev.head()"
   ]
  },
  {
   "cell_type": "code",
   "execution_count": null,
   "id": "0f7c992b-228b-4a91-ba0c-a5ffc02f137e",
   "metadata": {},
   "outputs": [],
   "source": [
    "df_ev.state.unique()"
   ]
  },
  {
   "cell_type": "code",
   "execution_count": null,
   "id": "e4a50fe4",
   "metadata": {},
   "outputs": [],
   "source": [
    "mk_county = pd.pivot_table(data=df_ev,columns='make',index='county',values='dummy',aggfunc='count')\n",
    "mk_county"
   ]
  },
  {
   "cell_type": "code",
   "execution_count": null,
   "id": "ec5a38cb-c7e2-4a82-880f-dee9a61b509e",
   "metadata": {},
   "outputs": [],
   "source": [
    "col_list"
   ]
  },
  {
   "cell_type": "code",
   "execution_count": null,
   "id": "6379cb36-25cf-4128-a350-f30a40e6bd95",
   "metadata": {},
   "outputs": [],
   "source": [
    "ev_share=df_ev.make.value_counts(normalize=True,sort=True)"
   ]
  },
  {
   "cell_type": "code",
   "execution_count": null,
   "id": "a1153bd5-8c24-4352-9cef-b3aebc1b3304",
   "metadata": {},
   "outputs": [],
   "source": [
    "ev_share"
   ]
  },
  {
   "cell_type": "code",
   "execution_count": null,
   "id": "0c0045c8-371b-4096-9fbe-90c15a815e78",
   "metadata": {},
   "outputs": [],
   "source": [
    "col = df_ev['make'].unique()\n",
    "share = list()\n",
    "for i in col:\n",
    "    share.append(df_ev[df_ev['make']==i]['make'].count())\n",
    "total = sum(share)\n",
    "share /= total\n",
    "ev_share = pd.DataFrame({'make':col,'share':share})\n",
    "\n",
    "others = {'make':'OTHERS','share':ev_share[ev_share['share']<0.03]['share'].sum()}\n",
    "ev_share.loc[len(df_ev)] = others\n",
    "\n",
    "ev_share.drop(inplace=True,index=ev_share[ev_share['share']<0.03].index)\n",
    "\n",
    "ev_share.set_index('make',inplace=True)\n",
    "ev_share.index\n",
    "\n",
    "ev_share['share'].plot(kind='pie')\n",
    "plt.title('Market Share')"
   ]
  },
  {
   "cell_type": "code",
   "execution_count": null,
   "id": "86d8b3b6-2811-4873-b94d-3966f47a1256",
   "metadata": {},
   "outputs": [],
   "source": [
    "df_ev.head()"
   ]
  },
  {
   "cell_type": "code",
   "execution_count": null,
   "id": "c6ced556-5865-4272-a2c5-23c9e910574d",
   "metadata": {},
   "outputs": [],
   "source": [
    "import data_tools as dt\n",
    "x,y = dt.extract_cordinates(list(df_ev['vehicle_location']))"
   ]
  },
  {
   "cell_type": "code",
   "execution_count": null,
   "id": "707e6cba-5075-427d-8eed-8208cb216446",
   "metadata": {},
   "outputs": [],
   "source": [
    "df_ev['latitude'] = x\n",
    "df_ev['longitude'] = y"
   ]
  },
  {
   "cell_type": "code",
   "execution_count": null,
   "id": "4fe746a6-dbbc-4335-9b5f-1ee0cb36fbb2",
   "metadata": {},
   "outputs": [],
   "source": [
    "df_ev['latitude']"
   ]
  },
  {
   "cell_type": "code",
   "execution_count": null,
   "id": "99070eb0-af2a-475e-9aca-8d3f3846dfee",
   "metadata": {},
   "outputs": [],
   "source": [
    "import geopandas as gpd"
   ]
  },
  {
   "cell_type": "code",
   "execution_count": null,
   "id": "f09d10e1-54a0-4198-9596-ed3394ba8f50",
   "metadata": {},
   "outputs": [],
   "source": [
    "# map_bg = gpd.read_file(r'/home/ibrahim/Downloads/data/tl_2016_53_cousub.shp')"
   ]
  },
  {
   "cell_type": "code",
   "execution_count": null,
   "id": "76ad4207-3ad9-41f1-9f6a-db4222548c6b",
   "metadata": {},
   "outputs": [],
   "source": [
    "# gdf = gpd.GeoDataFrame(df_ev,geometry=gpd.points_from_xy(df_ev.latitude,df_ev.longitude),crs='EPSG:4326')"
   ]
  },
  {
   "cell_type": "code",
   "execution_count": null,
   "id": "b3543b43-c8ae-4e07-85a8-016f13f06a43",
   "metadata": {},
   "outputs": [],
   "source": [
    "# ax = map_bg.plot(figsize=(10, 10), color='lightgray', edgecolor='black')\n",
    "# gdf.plot(ax=ax, marker='o', color='blue',markersize=10,alpha=0.7)\n",
    "# plt.title('Geographical Plot with Map Background')\n",
    "# plt.xlabel('Longitude')\n",
    "# # plt.ylabel('Latitude')\n",
    "# plt.show()"
   ]
  },
  {
   "cell_type": "code",
   "execution_count": null,
   "id": "84f3cb4c-b5a3-49f3-989f-4cc05b9d8f0b",
   "metadata": {},
   "outputs": [],
   "source": [
    "print('hello \\nworld')"
   ]
  },
  {
   "cell_type": "code",
   "execution_count": null,
   "id": "9420a32e-7e4c-45f0-9ff2-2ac3a1396463",
   "metadata": {},
   "outputs": [],
   "source": [
    "import data_tools as dt"
   ]
  },
  {
   "cell_type": "code",
   "execution_count": null,
   "id": "4ed18914-f0c9-4ee9-b8a2-4e7d1ead84c0",
   "metadata": {},
   "outputs": [],
   "source": [
    "geo_map = r'/home/ibrahim/Downloads/data/tl_2016_53_cousub.shp'"
   ]
  },
  {
   "cell_type": "code",
   "execution_count": null,
   "id": "8ffcadc3-f098-4aed-a477-6fc73bed14f9",
   "metadata": {},
   "outputs": [],
   "source": [
    "df_ev['latitude'].astype(float)\n",
    "df_ev['longitude'].astype(float)"
   ]
  },
  {
   "cell_type": "code",
   "execution_count": null,
   "id": "75923795-5821-4627-9f7e-6e52b622f79c",
   "metadata": {},
   "outputs": [],
   "source": [
    "dt.geo_plot(df_ev,latitude=df_ev['latitude'],longitude=df_ev['longitude'],file_path=geo_map,title='Location of EVs across WA state',size=(20,20))"
   ]
  },
  {
   "cell_type": "code",
   "execution_count": null,
   "id": "ece5b387-0a52-4a09-8a55-a5e1a76c580d",
   "metadata": {},
   "outputs": [],
   "source": []
  }
 ],
 "metadata": {
  "kernelspec": {
   "display_name": "Python 3 (ipykernel)",
   "language": "python",
   "name": "python3"
  },
  "language_info": {
   "codemirror_mode": {
    "name": "ipython",
    "version": 3
   },
   "file_extension": ".py",
   "mimetype": "text/x-python",
   "name": "python",
   "nbconvert_exporter": "python",
   "pygments_lexer": "ipython3",
   "version": "3.9.18"
  }
 },
 "nbformat": 4,
 "nbformat_minor": 5
}
