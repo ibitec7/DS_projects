{
 "cells": [
  {
   "cell_type": "code",
   "execution_count": 1,
   "id": "ac783bce-efe1-40b1-81aa-9b4b4b07e361",
   "metadata": {},
   "outputs": [],
   "source": [
    "import pandas as pd\n",
    "import numpy as np\n",
    "import matplotlib.pyplot as plt\n",
    "import data_tools as dt"
   ]
  },
  {
   "cell_type": "code",
   "execution_count": 2,
   "id": "bef46706-1d00-4fb8-8064-75e4dd580c59",
   "metadata": {},
   "outputs": [],
   "source": [
    "file_path=r\"/home/ibrahim/Downloads/data/Warehouse_and_Retail_Sales.csv\"\n",
    "df=pd.read_csv(file_path)"
   ]
  },
  {
   "cell_type": "markdown",
   "id": "4bd69154-6dcb-4f84-aaad-d2249db29bad",
   "metadata": {},
   "source": [
    "EXPLORING THE DATA\n",
    "Data seems to be clean without duplicated and missing values."
   ]
  },
  {
   "cell_type": "code",
   "execution_count": 3,
   "id": "dc2f353c-cd6a-4a97-9cb7-a9f576f64979",
   "metadata": {},
   "outputs": [
    {
     "data": {
      "text/html": [
       "<div>\n",
       "<style scoped>\n",
       "    .dataframe tbody tr th:only-of-type {\n",
       "        vertical-align: middle;\n",
       "    }\n",
       "\n",
       "    .dataframe tbody tr th {\n",
       "        vertical-align: top;\n",
       "    }\n",
       "\n",
       "    .dataframe thead th {\n",
       "        text-align: right;\n",
       "    }\n",
       "</style>\n",
       "<table border=\"1\" class=\"dataframe\">\n",
       "  <thead>\n",
       "    <tr style=\"text-align: right;\">\n",
       "      <th></th>\n",
       "      <th>col_names</th>\n",
       "      <th>key</th>\n",
       "    </tr>\n",
       "  </thead>\n",
       "  <tbody>\n",
       "    <tr>\n",
       "      <th>0</th>\n",
       "      <td>year</td>\n",
       "      <td>YEAR</td>\n",
       "    </tr>\n",
       "    <tr>\n",
       "      <th>1</th>\n",
       "      <td>month</td>\n",
       "      <td>MONTH</td>\n",
       "    </tr>\n",
       "    <tr>\n",
       "      <th>2</th>\n",
       "      <td>supplier</td>\n",
       "      <td>SUPPLIER</td>\n",
       "    </tr>\n",
       "    <tr>\n",
       "      <th>3</th>\n",
       "      <td>item_code</td>\n",
       "      <td>ITEM CODE</td>\n",
       "    </tr>\n",
       "    <tr>\n",
       "      <th>4</th>\n",
       "      <td>id</td>\n",
       "      <td>ITEM DESCRIPTION</td>\n",
       "    </tr>\n",
       "    <tr>\n",
       "      <th>5</th>\n",
       "      <td>item_type</td>\n",
       "      <td>ITEM TYPE</td>\n",
       "    </tr>\n",
       "    <tr>\n",
       "      <th>6</th>\n",
       "      <td>retail_sales</td>\n",
       "      <td>RETAIL SALES</td>\n",
       "    </tr>\n",
       "    <tr>\n",
       "      <th>7</th>\n",
       "      <td>rt</td>\n",
       "      <td>RETAIL TRANSFERS</td>\n",
       "    </tr>\n",
       "    <tr>\n",
       "      <th>8</th>\n",
       "      <td>ws</td>\n",
       "      <td>WAREHOUSE SALES</td>\n",
       "    </tr>\n",
       "  </tbody>\n",
       "</table>\n",
       "</div>"
      ],
      "text/plain": [
       "      col_names               key\n",
       "0          year              YEAR\n",
       "1         month             MONTH\n",
       "2      supplier          SUPPLIER\n",
       "3     item_code         ITEM CODE\n",
       "4            id  ITEM DESCRIPTION\n",
       "5     item_type         ITEM TYPE\n",
       "6  retail_sales      RETAIL SALES\n",
       "7            rt  RETAIL TRANSFERS\n",
       "8            ws   WAREHOUSE SALES"
      ]
     },
     "execution_count": 3,
     "metadata": {},
     "output_type": "execute_result"
    }
   ],
   "source": [
    "cols=df.columns\n",
    "df.columns=dt.df_col(df.columns,max_length=12)\n",
    "key=pd.DataFrame({\"col_names\":df.columns,\"key\":cols})\n",
    "key"
   ]
  },
  {
   "cell_type": "code",
   "execution_count": 4,
   "id": "da7f484c-2a91-462b-ac75-5fd16d6b3ae3",
   "metadata": {},
   "outputs": [
    {
     "data": {
      "text/html": [
       "<div>\n",
       "<style scoped>\n",
       "    .dataframe tbody tr th:only-of-type {\n",
       "        vertical-align: middle;\n",
       "    }\n",
       "\n",
       "    .dataframe tbody tr th {\n",
       "        vertical-align: top;\n",
       "    }\n",
       "\n",
       "    .dataframe thead th {\n",
       "        text-align: right;\n",
       "    }\n",
       "</style>\n",
       "<table border=\"1\" class=\"dataframe\">\n",
       "  <thead>\n",
       "    <tr style=\"text-align: right;\">\n",
       "      <th></th>\n",
       "      <th>year</th>\n",
       "      <th>month</th>\n",
       "      <th>supplier</th>\n",
       "      <th>item_code</th>\n",
       "      <th>id</th>\n",
       "      <th>item_type</th>\n",
       "      <th>retail_sales</th>\n",
       "      <th>rt</th>\n",
       "      <th>ws</th>\n",
       "    </tr>\n",
       "  </thead>\n",
       "  <tbody>\n",
       "    <tr>\n",
       "      <th>0</th>\n",
       "      <td>2020</td>\n",
       "      <td>1</td>\n",
       "      <td>REPUBLIC NATIONAL DISTRIBUTING CO</td>\n",
       "      <td>100009</td>\n",
       "      <td>BOOTLEG RED - 750ML</td>\n",
       "      <td>WINE</td>\n",
       "      <td>0.00</td>\n",
       "      <td>0.0</td>\n",
       "      <td>2.0</td>\n",
       "    </tr>\n",
       "    <tr>\n",
       "      <th>1</th>\n",
       "      <td>2020</td>\n",
       "      <td>1</td>\n",
       "      <td>PWSWN INC</td>\n",
       "      <td>100024</td>\n",
       "      <td>MOMENT DE PLAISIR - 750ML</td>\n",
       "      <td>WINE</td>\n",
       "      <td>0.00</td>\n",
       "      <td>1.0</td>\n",
       "      <td>4.0</td>\n",
       "    </tr>\n",
       "    <tr>\n",
       "      <th>2</th>\n",
       "      <td>2020</td>\n",
       "      <td>1</td>\n",
       "      <td>RELIABLE CHURCHILL LLLP</td>\n",
       "      <td>1001</td>\n",
       "      <td>S SMITH ORGANIC PEAR CIDER - 18.7OZ</td>\n",
       "      <td>BEER</td>\n",
       "      <td>0.00</td>\n",
       "      <td>0.0</td>\n",
       "      <td>1.0</td>\n",
       "    </tr>\n",
       "    <tr>\n",
       "      <th>3</th>\n",
       "      <td>2020</td>\n",
       "      <td>1</td>\n",
       "      <td>LANTERNA DISTRIBUTORS INC</td>\n",
       "      <td>100145</td>\n",
       "      <td>SCHLINK HAUS KABINETT - 750ML</td>\n",
       "      <td>WINE</td>\n",
       "      <td>0.00</td>\n",
       "      <td>0.0</td>\n",
       "      <td>1.0</td>\n",
       "    </tr>\n",
       "    <tr>\n",
       "      <th>4</th>\n",
       "      <td>2020</td>\n",
       "      <td>1</td>\n",
       "      <td>DIONYSOS IMPORTS INC</td>\n",
       "      <td>100293</td>\n",
       "      <td>SANTORINI GAVALA WHITE - 750ML</td>\n",
       "      <td>WINE</td>\n",
       "      <td>0.82</td>\n",
       "      <td>0.0</td>\n",
       "      <td>0.0</td>\n",
       "    </tr>\n",
       "  </tbody>\n",
       "</table>\n",
       "</div>"
      ],
      "text/plain": [
       "   year  month                           supplier item_code  \\\n",
       "0  2020      1  REPUBLIC NATIONAL DISTRIBUTING CO    100009   \n",
       "1  2020      1                          PWSWN INC    100024   \n",
       "2  2020      1            RELIABLE CHURCHILL LLLP      1001   \n",
       "3  2020      1          LANTERNA DISTRIBUTORS INC    100145   \n",
       "4  2020      1               DIONYSOS IMPORTS INC    100293   \n",
       "\n",
       "                                    id item_type  retail_sales   rt   ws  \n",
       "0                  BOOTLEG RED - 750ML      WINE          0.00  0.0  2.0  \n",
       "1            MOMENT DE PLAISIR - 750ML      WINE          0.00  1.0  4.0  \n",
       "2  S SMITH ORGANIC PEAR CIDER - 18.7OZ      BEER          0.00  0.0  1.0  \n",
       "3        SCHLINK HAUS KABINETT - 750ML      WINE          0.00  0.0  1.0  \n",
       "4       SANTORINI GAVALA WHITE - 750ML      WINE          0.82  0.0  0.0  "
      ]
     },
     "execution_count": 4,
     "metadata": {},
     "output_type": "execute_result"
    }
   ],
   "source": [
    "df.head()"
   ]
  },
  {
   "cell_type": "code",
   "execution_count": 5,
   "id": "bafbe03b-7452-4872-8289-6b2f147ee368",
   "metadata": {},
   "outputs": [
    {
     "data": {
      "text/html": [
       "<div>\n",
       "<style scoped>\n",
       "    .dataframe tbody tr th:only-of-type {\n",
       "        vertical-align: middle;\n",
       "    }\n",
       "\n",
       "    .dataframe tbody tr th {\n",
       "        vertical-align: top;\n",
       "    }\n",
       "\n",
       "    .dataframe thead th {\n",
       "        text-align: right;\n",
       "    }\n",
       "</style>\n",
       "<table border=\"1\" class=\"dataframe\">\n",
       "  <thead>\n",
       "    <tr style=\"text-align: right;\">\n",
       "      <th></th>\n",
       "      <th>year</th>\n",
       "      <th>month</th>\n",
       "      <th>supplier</th>\n",
       "      <th>item_code</th>\n",
       "      <th>id</th>\n",
       "      <th>item_type</th>\n",
       "      <th>retail_sales</th>\n",
       "      <th>rt</th>\n",
       "      <th>ws</th>\n",
       "    </tr>\n",
       "  </thead>\n",
       "  <tbody>\n",
       "    <tr>\n",
       "      <th>307640</th>\n",
       "      <td>2020</td>\n",
       "      <td>9</td>\n",
       "      <td>DOPS INC</td>\n",
       "      <td>97896</td>\n",
       "      <td>ST PETERS ORGANIC ENG ALE NR 12/CS - 16.9OZ</td>\n",
       "      <td>BEER</td>\n",
       "      <td>0.00</td>\n",
       "      <td>0.0</td>\n",
       "      <td>1.00</td>\n",
       "    </tr>\n",
       "    <tr>\n",
       "      <th>307641</th>\n",
       "      <td>2020</td>\n",
       "      <td>9</td>\n",
       "      <td>ANHEUSER BUSCH INC</td>\n",
       "      <td>97918</td>\n",
       "      <td>STELLA ARTOIS 2/12 NR - 11.2OZ</td>\n",
       "      <td>BEER</td>\n",
       "      <td>372.45</td>\n",
       "      <td>315.0</td>\n",
       "      <td>3586.88</td>\n",
       "    </tr>\n",
       "    <tr>\n",
       "      <th>307642</th>\n",
       "      <td>2020</td>\n",
       "      <td>9</td>\n",
       "      <td>HEINEKEN USA</td>\n",
       "      <td>97942</td>\n",
       "      <td>TECATE 4/6 LNNR - 12OZ</td>\n",
       "      <td>BEER</td>\n",
       "      <td>7.79</td>\n",
       "      <td>0.0</td>\n",
       "      <td>4.00</td>\n",
       "    </tr>\n",
       "    <tr>\n",
       "      <th>307643</th>\n",
       "      <td>2020</td>\n",
       "      <td>9</td>\n",
       "      <td>RELIABLE CHURCHILL LLLP</td>\n",
       "      <td>97950</td>\n",
       "      <td>S SMITH WINTER WELCOME NR 12/CS - 18.7OZ</td>\n",
       "      <td>BEER</td>\n",
       "      <td>0.00</td>\n",
       "      <td>0.0</td>\n",
       "      <td>2.00</td>\n",
       "    </tr>\n",
       "    <tr>\n",
       "      <th>307644</th>\n",
       "      <td>2020</td>\n",
       "      <td>9</td>\n",
       "      <td>RELIABLE CHURCHILL LLLP</td>\n",
       "      <td>97969</td>\n",
       "      <td>S SMITH WINTER WELCOME 4/6NR - 12OZ</td>\n",
       "      <td>BEER</td>\n",
       "      <td>0.00</td>\n",
       "      <td>0.0</td>\n",
       "      <td>1.00</td>\n",
       "    </tr>\n",
       "  </tbody>\n",
       "</table>\n",
       "</div>"
      ],
      "text/plain": [
       "        year  month                 supplier item_code  \\\n",
       "307640  2020      9                 DOPS INC     97896   \n",
       "307641  2020      9       ANHEUSER BUSCH INC     97918   \n",
       "307642  2020      9             HEINEKEN USA     97942   \n",
       "307643  2020      9  RELIABLE CHURCHILL LLLP     97950   \n",
       "307644  2020      9  RELIABLE CHURCHILL LLLP     97969   \n",
       "\n",
       "                                                 id item_type  retail_sales  \\\n",
       "307640  ST PETERS ORGANIC ENG ALE NR 12/CS - 16.9OZ      BEER          0.00   \n",
       "307641               STELLA ARTOIS 2/12 NR - 11.2OZ      BEER        372.45   \n",
       "307642                       TECATE 4/6 LNNR - 12OZ      BEER          7.79   \n",
       "307643     S SMITH WINTER WELCOME NR 12/CS - 18.7OZ      BEER          0.00   \n",
       "307644          S SMITH WINTER WELCOME 4/6NR - 12OZ      BEER          0.00   \n",
       "\n",
       "           rt       ws  \n",
       "307640    0.0     1.00  \n",
       "307641  315.0  3586.88  \n",
       "307642    0.0     4.00  \n",
       "307643    0.0     2.00  \n",
       "307644    0.0     1.00  "
      ]
     },
     "execution_count": 5,
     "metadata": {},
     "output_type": "execute_result"
    }
   ],
   "source": [
    "df.tail()"
   ]
  },
  {
   "cell_type": "code",
   "execution_count": 6,
   "id": "b3c6cf0a-4183-43cd-ad8f-c3ace6d40f95",
   "metadata": {},
   "outputs": [
    {
     "name": "stdout",
     "output_type": "stream",
     "text": [
      "<class 'pandas.core.frame.DataFrame'>\n",
      "RangeIndex: 307645 entries, 0 to 307644\n",
      "Data columns (total 9 columns):\n",
      " #   Column        Non-Null Count   Dtype  \n",
      "---  ------        --------------   -----  \n",
      " 0   year          307645 non-null  int64  \n",
      " 1   month         307645 non-null  int64  \n",
      " 2   supplier      307478 non-null  object \n",
      " 3   item_code     307645 non-null  object \n",
      " 4   id            307645 non-null  object \n",
      " 5   item_type     307644 non-null  object \n",
      " 6   retail_sales  307642 non-null  float64\n",
      " 7   rt            307645 non-null  float64\n",
      " 8   ws            307645 non-null  float64\n",
      "dtypes: float64(3), int64(2), object(4)\n",
      "memory usage: 21.1+ MB\n"
     ]
    }
   ],
   "source": [
    "df.info()"
   ]
  },
  {
   "cell_type": "code",
   "execution_count": 7,
   "id": "0295e913-30fd-479e-8fe9-8f02027a8d24",
   "metadata": {},
   "outputs": [
    {
     "data": {
      "text/plain": [
       "year              0\n",
       "month             0\n",
       "supplier        167\n",
       "item_code         0\n",
       "id                0\n",
       "item_type         1\n",
       "retail_sales      3\n",
       "rt                0\n",
       "ws                0\n",
       "dtype: int64"
      ]
     },
     "execution_count": 7,
     "metadata": {},
     "output_type": "execute_result"
    }
   ],
   "source": [
    "df.isnull().sum()"
   ]
  },
  {
   "cell_type": "code",
   "execution_count": 8,
   "id": "21425a2f-6a8f-44d2-a321-7166380b8cd0",
   "metadata": {},
   "outputs": [],
   "source": [
    "df.dropna(inplace=True)"
   ]
  },
  {
   "cell_type": "code",
   "execution_count": 9,
   "id": "a3f5152e-b015-4d6e-b25f-2b36e04f3985",
   "metadata": {},
   "outputs": [
    {
     "data": {
      "text/plain": [
       "year            0\n",
       "month           0\n",
       "supplier        0\n",
       "item_code       0\n",
       "id              0\n",
       "item_type       0\n",
       "retail_sales    0\n",
       "rt              0\n",
       "ws              0\n",
       "dtype: int64"
      ]
     },
     "execution_count": 9,
     "metadata": {},
     "output_type": "execute_result"
    }
   ],
   "source": [
    "df[df.duplicated()==True].count()"
   ]
  },
  {
   "cell_type": "markdown",
   "id": "a0bf8858-1338-41f4-a15d-2d1518d08a17",
   "metadata": {},
   "source": [
    "DATA ANALYSIS\n",
    "Exploring some of the features of the data"
   ]
  },
  {
   "cell_type": "code",
   "execution_count": 10,
   "id": "af9b0fc8-4771-4d27-8145-16aacf53c5ea",
   "metadata": {},
   "outputs": [
    {
     "data": {
      "text/html": [
       "<div>\n",
       "<style scoped>\n",
       "    .dataframe tbody tr th:only-of-type {\n",
       "        vertical-align: middle;\n",
       "    }\n",
       "\n",
       "    .dataframe tbody tr th {\n",
       "        vertical-align: top;\n",
       "    }\n",
       "\n",
       "    .dataframe thead th {\n",
       "        text-align: right;\n",
       "    }\n",
       "</style>\n",
       "<table border=\"1\" class=\"dataframe\">\n",
       "  <thead>\n",
       "    <tr style=\"text-align: right;\">\n",
       "      <th></th>\n",
       "      <th>year</th>\n",
       "      <th>month</th>\n",
       "      <th>retail_sales</th>\n",
       "      <th>rt</th>\n",
       "      <th>ws</th>\n",
       "    </tr>\n",
       "  </thead>\n",
       "  <tbody>\n",
       "    <tr>\n",
       "      <th>count</th>\n",
       "      <td>307477.000000</td>\n",
       "      <td>307477.000000</td>\n",
       "      <td>307477.000000</td>\n",
       "      <td>307477.000000</td>\n",
       "      <td>307477.000000</td>\n",
       "    </tr>\n",
       "    <tr>\n",
       "      <th>mean</th>\n",
       "      <td>2018.438238</td>\n",
       "      <td>6.424064</td>\n",
       "      <td>7.003644</td>\n",
       "      <td>6.938177</td>\n",
       "      <td>25.375561</td>\n",
       "    </tr>\n",
       "    <tr>\n",
       "      <th>std</th>\n",
       "      <td>1.083080</td>\n",
       "      <td>3.461853</td>\n",
       "      <td>30.387012</td>\n",
       "      <td>30.244239</td>\n",
       "      <td>249.500572</td>\n",
       "    </tr>\n",
       "    <tr>\n",
       "      <th>min</th>\n",
       "      <td>2017.000000</td>\n",
       "      <td>1.000000</td>\n",
       "      <td>-6.490000</td>\n",
       "      <td>-38.490000</td>\n",
       "      <td>-4996.000000</td>\n",
       "    </tr>\n",
       "    <tr>\n",
       "      <th>25%</th>\n",
       "      <td>2017.000000</td>\n",
       "      <td>3.000000</td>\n",
       "      <td>0.000000</td>\n",
       "      <td>0.000000</td>\n",
       "      <td>0.000000</td>\n",
       "    </tr>\n",
       "    <tr>\n",
       "      <th>50%</th>\n",
       "      <td>2019.000000</td>\n",
       "      <td>7.000000</td>\n",
       "      <td>0.320000</td>\n",
       "      <td>0.000000</td>\n",
       "      <td>1.000000</td>\n",
       "    </tr>\n",
       "    <tr>\n",
       "      <th>75%</th>\n",
       "      <td>2019.000000</td>\n",
       "      <td>9.000000</td>\n",
       "      <td>3.260000</td>\n",
       "      <td>3.000000</td>\n",
       "      <td>5.000000</td>\n",
       "    </tr>\n",
       "    <tr>\n",
       "      <th>max</th>\n",
       "      <td>2020.000000</td>\n",
       "      <td>12.000000</td>\n",
       "      <td>1816.490000</td>\n",
       "      <td>1990.830000</td>\n",
       "      <td>18317.000000</td>\n",
       "    </tr>\n",
       "  </tbody>\n",
       "</table>\n",
       "</div>"
      ],
      "text/plain": [
       "                year          month   retail_sales             rt  \\\n",
       "count  307477.000000  307477.000000  307477.000000  307477.000000   \n",
       "mean     2018.438238       6.424064       7.003644       6.938177   \n",
       "std         1.083080       3.461853      30.387012      30.244239   \n",
       "min      2017.000000       1.000000      -6.490000     -38.490000   \n",
       "25%      2017.000000       3.000000       0.000000       0.000000   \n",
       "50%      2019.000000       7.000000       0.320000       0.000000   \n",
       "75%      2019.000000       9.000000       3.260000       3.000000   \n",
       "max      2020.000000      12.000000    1816.490000    1990.830000   \n",
       "\n",
       "                  ws  \n",
       "count  307477.000000  \n",
       "mean       25.375561  \n",
       "std       249.500572  \n",
       "min     -4996.000000  \n",
       "25%         0.000000  \n",
       "50%         1.000000  \n",
       "75%         5.000000  \n",
       "max     18317.000000  "
      ]
     },
     "execution_count": 10,
     "metadata": {},
     "output_type": "execute_result"
    }
   ],
   "source": [
    "df.describe()"
   ]
  },
  {
   "cell_type": "code",
   "execution_count": 11,
   "id": "f5820c42-6167-45be-b124-4b27d9398e77",
   "metadata": {},
   "outputs": [
    {
     "data": {
      "text/plain": [
       "array(['WINE', 'BEER', 'LIQUOR', 'STR_SUPPLIES', 'KEGS', 'REF',\n",
       "       'NON-ALCOHOL', 'DUNNAGE'], dtype=object)"
      ]
     },
     "execution_count": 11,
     "metadata": {},
     "output_type": "execute_result"
    }
   ],
   "source": [
    "df[\"item_type\"].unique()"
   ]
  },
  {
   "cell_type": "code",
   "execution_count": 12,
   "id": "a8d453ad-c10b-454b-a790-82105f3becbb",
   "metadata": {},
   "outputs": [
    {
     "data": {
      "text/plain": [
       "396"
      ]
     },
     "execution_count": 12,
     "metadata": {},
     "output_type": "execute_result"
    }
   ],
   "source": [
    "len(df[\"supplier\"].unique())"
   ]
  },
  {
   "cell_type": "code",
   "execution_count": 13,
   "id": "3b41ce84-3bc2-4286-9dba-1cc3ace90820",
   "metadata": {},
   "outputs": [
    {
     "data": {
      "text/plain": [
       "item_type\n",
       "WINE            187640\n",
       "LIQUOR           64910\n",
       "BEER             42413\n",
       "KEGS             10146\n",
       "NON-ALCOHOL       1899\n",
       "STR_SUPPLIES       318\n",
       "REF                 79\n",
       "DUNNAGE             72\n",
       "Name: count, dtype: int64"
      ]
     },
     "execution_count": 13,
     "metadata": {},
     "output_type": "execute_result"
    }
   ],
   "source": [
    "df[\"item_type\"].value_counts()"
   ]
  },
  {
   "cell_type": "code",
   "execution_count": 19,
   "id": "6d48c6a9-c61d-4631-a827-2dab2f57ea96",
   "metadata": {},
   "outputs": [],
   "source": [
    "item=[]\n",
    "count=[]\n",
    "for i in df[\"item_type\"].unique():\n",
    "    item.append(i)\n",
    "    count.append(df[df[\"item_type\"]==i][\"item_type\"].count())"
   ]
  },
  {
   "cell_type": "code",
   "execution_count": 24,
   "id": "63804327-cb65-4f75-a62e-bf7a4cdb783c",
   "metadata": {},
   "outputs": [
    {
     "data": {
      "image/png": "[encoded data removed]",
      "text/plain": [
       "<Figure size 640x480 with 1 Axes>"
      ]
     },
     "metadata": {},
     "output_type": "display_data"
    }
   ],
   "source": [
    "plt.bar(item,count,color='red')\n",
    "plt.title(\"Count of Unique Items\",fontsize=20)\n",
    "plt.xlabel(\"Item\",fontsize=15)\n",
    "plt.ylabel(\"Count\",fontsize=15)\n",
    "plt.xticks(rotation=90)\n",
    "plt.show()"
   ]
  },
  {
   "cell_type": "code",
   "execution_count": null,
   "id": "8213a7dc-bd5b-4b89-b175-e2cee32936ff",
   "metadata": {},
   "outputs": [],
   "source": []
  },
  {
   "cell_type": "code",
   "execution_count": null,
   "id": "52a0842a-99d9-47bf-ad1a-ca4762a66d06",
   "metadata": {},
   "outputs": [],
   "source": []
  }
 ],
 "metadata": {
  "kernelspec": {
   "display_name": "Python 3 (ipykernel)",
   "language": "python",
   "name": "python3"
  },
  "language_info": {
   "codemirror_mode": {
    "name": "ipython",
    "version": 3
   },
   "file_extension": ".py",
   "mimetype": "text/x-python",
   "name": "python",
   "nbconvert_exporter": "python",
   "pygments_lexer": "ipython3",
   "version": "3.9.18"
  }
 },
 "nbformat": 4,
 "nbformat_minor": 5
}
