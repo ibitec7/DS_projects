{
 "cells": [
  {
   "cell_type": "code",
   "execution_count": 1,
   "id": "772702a7-7140-4b3a-888e-e007560e3ff2",
   "metadata": {},
   "outputs": [],
   "source": [
    "import torch\n",
    "import torch.nn as nn\n",
    "import numpy as np\n",
    "import matplotlib.pyplot as plt\n",
    "import data_tools as dt"
   ]
  },
  {
   "cell_type": "code",
   "execution_count": 17,
   "id": "30a2772e-4aaa-49d5-ba57-ea6599cd4973",
   "metadata": {},
   "outputs": [],
   "source": [
    "from sklearn.datasets import make_blobs\n",
    "\n",
    "X,y=make_blobs(n_samples=400,n_features=3,centers=3,random_state=42)"
   ]
  },
  {
   "cell_type": "code",
   "execution_count": 3,
   "id": "162ae3f1-b894-47d1-b61b-c005fc376f2b",
   "metadata": {},
   "outputs": [],
   "source": [
    "from sklearn.model_selection import train_test_split\n",
    "\n",
    "X_train,X_test,y_train,y_test=train_test_split(X,y,random_state=42,test_size=0.2)"
   ]
  },
  {
   "cell_type": "code",
   "execution_count": 73,
   "id": "92eba015-b444-46be-9cba-bbe43e1cffe1",
   "metadata": {},
   "outputs": [
    {
     "data": {
      "text/plain": [
       "torch.Size([320, 3])"
      ]
     },
     "execution_count": 73,
     "metadata": {},
     "output_type": "execute_result"
    }
   ],
   "source": [
    "X_train.size()"
   ]
  },
  {
   "cell_type": "code",
   "execution_count": 4,
   "id": "76a8c1c0-82fd-49e3-9050-8345a0f777a7",
   "metadata": {},
   "outputs": [
    {
     "data": {
      "text/plain": [
       "<matplotlib.collections.PathCollection at 0x7f31dc2fa400>"
      ]
     },
     "execution_count": 4,
     "metadata": {},
     "output_type": "execute_result"
    },
    {
     "data": {
      "image/png": "[encoded data removed]",
      "text/plain": [
       "<Figure size 640x480 with 1 Axes>"
      ]
     },
     "metadata": {},
     "output_type": "display_data"
    }
   ],
   "source": [
    "plt.scatter(X_train[:,0],X_train[:,1])\n",
    "plt.scatter(X_test[:,0],X_test[:,1])"
   ]
  },
  {
   "cell_type": "code",
   "execution_count": 5,
   "id": "e5b5a7bb-5844-4c69-9c86-dc22a6cbcaaa",
   "metadata": {},
   "outputs": [],
   "source": [
    "X_train=torch.from_numpy(X_train).type(torch.float)\n",
    "X_test=torch.from_numpy(X_test).type(torch.float)\n",
    "y_train=torch.from_numpy(y_train).type(torch.float)\n",
    "y_test=torch.from_numpy(y_test).type(torch.float)"
   ]
  },
  {
   "cell_type": "code",
   "execution_count": 10,
   "id": "94e6f6ef-8da0-45e4-8772-e651bfc28f52",
   "metadata": {},
   "outputs": [],
   "source": [
    "class DeepCluster(nn.Module):\n",
    "    def __init__(self,input_size,hidden_size,output_size,num_classes,num_clusters,):\n",
    "        super().__init__()\n",
    "        self.layers=nn.Sequential(nn.Linear(in_features=input_size,out_features=hidden_size),\n",
    "                                 nn.ReLU(),\n",
    "                                 nn.Linear(in_features=hidden_size,out_features=output_size),\n",
    "                                 nn.ReLU())\n",
    "        \n",
    "        self.cluster_layer=nn.Linear(output_size,num_clusters)\n",
    "        \n",
    "        self.class_layer=nn.Linear(output_size,num_classes)\n",
    "    \n",
    "    def forward(self,x: torch.Tensor) -> torch.Tensor:\n",
    "        output=self.layers(x)\n",
    "        class_out=self.class_layer(output)\n",
    "        cluster_out=self.cluster_layer(output)\n",
    "        return class_out,cluster_out"
   ]
  },
  {
   "cell_type": "code",
   "execution_count": 81,
   "id": "36d83c20-5e53-486e-bf53-aaad0ac7017a",
   "metadata": {},
   "outputs": [],
   "source": [
    "def KMeansLoss(embeddings,n_clusters):\n",
    "    \n",
    "    batch_size,n_centers=embeddings.size()\n",
    "    n_centers=torch.Tensor(n_centers)\n",
    "    embedding_dim=embeddings.ndim\n",
    "\n",
    "    embedding_reshape=embeddings.reshape(-1,embedding_dim)\n",
    "    expand=n_centers.unsqueeze(1).expand(batch_size,-1)\n",
    "    centers_reshaped=expand.reshape(-1,embedding_dim)\n",
    "\n",
    "    distances=torch.nn.functional.pairwise_distance(embedding_reshape,centers_reshaped)\n",
    "\n",
    "    distances=distances.reshape(batch_size,n_clusters)\n",
    "\n",
    "    loss=torch.mean(torch.sum(distances,dim=1))\n",
    "\n",
    "    return loss\n",
    "    "
   ]
  },
  {
   "cell_type": "code",
   "execution_count": 82,
   "id": "a151f72a-fdf8-4a27-be8d-586f1ad56b1f",
   "metadata": {},
   "outputs": [],
   "source": [
    "model=DeepCluster(input_size=3,hidden_size=10,output_size=5,num_classes=4,num_clusters=3)\n",
    "\n",
    "lr=1e-2\n",
    "label_crit=nn.CrossEntropyLoss()\n",
    "optim=torch.optim.Adam(model.parameters(),lr=lr)"
   ]
  },
  {
   "cell_type": "code",
   "execution_count": 47,
   "id": "013cf422-6152-4f5a-96ef-f9b6fb4766cc",
   "metadata": {},
   "outputs": [],
   "source": [
    "label,cluster=model(X_train)\n"
   ]
  },
  {
   "cell_type": "code",
   "execution_count": 49,
   "id": "5b8813de-d669-486f-a434-d0f30c447558",
   "metadata": {},
   "outputs": [
    {
     "data": {
      "text/plain": [
       "2"
      ]
     },
     "execution_count": 49,
     "metadata": {},
     "output_type": "execute_result"
    }
   ],
   "source": [
    "cluster.ndim"
   ]
  },
  {
   "cell_type": "code",
   "execution_count": 83,
   "id": "94e12ca0-493f-4abc-a950-bdda34924409",
   "metadata": {},
   "outputs": [
    {
     "ename": "RuntimeError",
     "evalue": "The expanded size of the tensor (320) must match the existing size (3) at non-singleton dimension 0.  Target sizes: [320, -1].  Tensor sizes: [3, 1]",
     "output_type": "error",
     "traceback": [
      "\u001b[0;31m---------------------------------------------------------------------------\u001b[0m",
      "\u001b[0;31mRuntimeError\u001b[0m                              Traceback (most recent call last)",
      "Cell \u001b[0;32mIn[83], line 10\u001b[0m\n\u001b[1;32m      8\u001b[0m label,cluster\u001b[38;5;241m=\u001b[39mmodel(X_train)\n\u001b[1;32m      9\u001b[0m \u001b[38;5;66;03m# label_loss=label_crit(y_train,label)\u001b[39;00m\n\u001b[0;32m---> 10\u001b[0m cluster_loss\u001b[38;5;241m=\u001b[39m\u001b[43mKMeansLoss\u001b[49m\u001b[43m(\u001b[49m\u001b[43mcluster\u001b[49m\u001b[43m,\u001b[49m\u001b[38;5;241;43m3\u001b[39;49m\u001b[43m)\u001b[49m\n\u001b[1;32m     11\u001b[0m optim\u001b[38;5;241m.\u001b[39mzero_grad()\n\u001b[1;32m     12\u001b[0m total_loss\u001b[38;5;241m=\u001b[39mcluster_loss\n",
      "Cell \u001b[0;32mIn[81], line 8\u001b[0m, in \u001b[0;36mKMeansLoss\u001b[0;34m(embeddings, n_clusters)\u001b[0m\n\u001b[1;32m      5\u001b[0m embedding_dim\u001b[38;5;241m=\u001b[39membeddings\u001b[38;5;241m.\u001b[39mndim\n\u001b[1;32m      7\u001b[0m embedding_reshape\u001b[38;5;241m=\u001b[39membeddings\u001b[38;5;241m.\u001b[39mreshape(\u001b[38;5;241m-\u001b[39m\u001b[38;5;241m1\u001b[39m,embedding_dim)\n\u001b[0;32m----> 8\u001b[0m expand\u001b[38;5;241m=\u001b[39m\u001b[43mn_centers\u001b[49m\u001b[38;5;241;43m.\u001b[39;49m\u001b[43munsqueeze\u001b[49m\u001b[43m(\u001b[49m\u001b[38;5;241;43m1\u001b[39;49m\u001b[43m)\u001b[49m\u001b[38;5;241;43m.\u001b[39;49m\u001b[43mexpand\u001b[49m\u001b[43m(\u001b[49m\u001b[43mbatch_size\u001b[49m\u001b[43m,\u001b[49m\u001b[38;5;241;43m-\u001b[39;49m\u001b[38;5;241;43m1\u001b[39;49m\u001b[43m)\u001b[49m\n\u001b[1;32m      9\u001b[0m centers_reshaped\u001b[38;5;241m=\u001b[39mexpand\u001b[38;5;241m.\u001b[39mreshape(\u001b[38;5;241m-\u001b[39m\u001b[38;5;241m1\u001b[39m,embedding_dim)\n\u001b[1;32m     11\u001b[0m distances\u001b[38;5;241m=\u001b[39mtorch\u001b[38;5;241m.\u001b[39mnn\u001b[38;5;241m.\u001b[39mfunctional\u001b[38;5;241m.\u001b[39mpairwise_distance(embedding_reshape,centers_reshaped)\n",
      "\u001b[0;31mRuntimeError\u001b[0m: The expanded size of the tensor (320) must match the existing size (3) at non-singleton dimension 0.  Target sizes: [320, -1].  Tensor sizes: [3, 1]"
     ]
    }
   ],
   "source": [
    "epochs=100\n",
    "train_count=np.empty(0,dtype=np.float16)\n",
    "test_count=np.array(0,dtype=np.float16)\n",
    "epoch_count=np.array(0,dtype=np.int16)\n",
    "\n",
    "for epoch in range(epochs):\n",
    "    model.train()\n",
    "    label,cluster=model(X_train)\n",
    "    # label_loss=label_crit(y_train,label)\n",
    "    cluster_loss=KMeansLoss(cluster,3)\n",
    "    optim.zero_grad()\n",
    "    total_loss=cluster_loss\n",
    "    total_loss.backward()\n",
    "    optim.step()\n",
    "    \n",
    "    train_count=np.append(train_count,total_loss)\n",
    "    \n",
    "    # with torch.inference_mode():\n",
    "    #     test_preds=model(X_test)\n",
    "    #     test_loss=criterion(y_test.detach(),test_preds)\n",
    "    #     test_count=np.append(test_count,test_loss)\n",
    "        \n",
    "    epoch_count=np.append(epoch_count,epoch)\n",
    "        \n",
    "    if epoch%5==0:\n",
    "        print(f\"Epoch: {epoch: 3d} || train_loss: {total_loss: .10f}\\n\")"
   ]
  }
 ],
 "metadata": {
  "kernelspec": {
   "display_name": "Python 3 (ipykernel)",
   "language": "python",
   "name": "python3"
  },
  "language_info": {
   "codemirror_mode": {
    "name": "ipython",
    "version": 3
   },
   "file_extension": ".py",
   "mimetype": "text/x-python",
   "name": "python",
   "nbconvert_exporter": "python",
   "pygments_lexer": "ipython3",
   "version": "3.9.18"
  }
 },
 "nbformat": 4,
 "nbformat_minor": 5
}
