{
 "cells": [
  {
   "cell_type": "code",
   "execution_count": 2,
   "id": "9f949d06-96c8-4ab9-ba06-23cf1d436ba4",
   "metadata": {},
   "outputs": [],
   "source": [
    "import numpy as np"
   ]
  },
  {
   "cell_type": "code",
   "execution_count": 27,
   "id": "69f7c4d4-fb65-4298-b04a-b7da10e3efa9",
   "metadata": {},
   "outputs": [],
   "source": [
    "array=np.array([1,2,3,4,5,3,7,3,9,10])"
   ]
  },
  {
   "cell_type": "code",
   "execution_count": 30,
   "id": "827f0c46-a59a-43e4-bea9-121ecf2a38b3",
   "metadata": {},
   "outputs": [],
   "source": [
    "key={3:5,7:8}"
   ]
  },
  {
   "cell_type": "code",
   "execution_count": 33,
   "id": "f892ca3d-18bc-4275-b088-b26cc38b328c",
   "metadata": {},
   "outputs": [],
   "source": [
    "mask=np.vectorize(lambda x: key.get(x,x))\n",
    "array=mask(array)"
   ]
  },
  {
   "cell_type": "code",
   "execution_count": 32,
   "id": "7e04262e-4bd2-4d8b-af10-e3f5145487e8",
   "metadata": {},
   "outputs": [
    {
     "data": {
      "text/plain": [
       "array([ 1,  2,  5,  4,  5,  5,  8,  5,  9, 10])"
      ]
     },
     "execution_count": 32,
     "metadata": {},
     "output_type": "execute_result"
    }
   ],
   "source": [
    "array"
   ]
  },
  {
   "cell_type": "code",
   "execution_count": 4,
   "id": "a3cec226-75ac-43f3-8f72-705c383b3843",
   "metadata": {},
   "outputs": [
    {
     "ename": "ModuleNotFoundError",
     "evalue": "No module named 'datatools'",
     "output_type": "error",
     "traceback": [
      "\u001b[0;31m---------------------------------------------------------------------------\u001b[0m",
      "\u001b[0;31mModuleNotFoundError\u001b[0m                       Traceback (most recent call last)",
      "Cell \u001b[0;32mIn[4], line 1\u001b[0m\n\u001b[0;32m----> 1\u001b[0m \u001b[38;5;28;01mfrom\u001b[39;00m \u001b[38;5;21;01mdatatools\u001b[39;00m \u001b[38;5;28;01mimport\u001b[39;00m df_col\n",
      "\u001b[0;31mModuleNotFoundError\u001b[0m: No module named 'datatools'"
     ]
    }
   ],
   "source": [
    "from datatools import df_col"
   ]
  }
 ],
 "metadata": {
  "kernelspec": {
   "display_name": "Python 3 (ipykernel)",
   "language": "python",
   "name": "python3"
  },
  "language_info": {
   "codemirror_mode": {
    "name": "ipython",
    "version": 3
   },
   "file_extension": ".py",
   "mimetype": "text/x-python",
   "name": "python",
   "nbconvert_exporter": "python",
   "pygments_lexer": "ipython3",
   "version": "3.9.18"
  }
 },
 "nbformat": 4,
 "nbformat_minor": 5
}
