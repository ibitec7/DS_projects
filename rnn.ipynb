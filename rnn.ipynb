{
 "cells": [
  {
   "cell_type": "code",
   "execution_count": 1,
   "id": "576ccd8b-9e92-47cd-a21b-7af7b385aeb3",
   "metadata": {},
   "outputs": [],
   "source": [
    "#importing libraries for project\n",
    "\n",
    "from torch import nn\n",
    "import torch\n",
    "import numpy as np\n",
    "import matplotlib.pyplot as plt\n",
    "import pandas as pd"
   ]
  },
  {
   "cell_type": "code",
   "execution_count": 2,
   "id": "734f6313-d6da-4141-9bd1-b6fc92482b20",
   "metadata": {},
   "outputs": [],
   "source": [
    "#importing the files to pandas dataframe from device\n",
    "\n",
    "file_path1=r\"/home/ibrahim/Downloads/DP_LIVE_30112023045815255.csv\"\n",
    "file_path2=r\"/home/ibrahim/Downloads/DP_LIVE_30112023045847413.csv\"\n",
    "file_path3=r\"/home/ibrahim/Downloads/DP_LIVE_30112023045926836.csv\"\n",
    "df_enrg=pd.read_csv(file_path1,parse_dates=True)\n",
    "df_trans=pd.read_csv(file_path2,parse_dates=True)\n",
    "df_emp=pd.read_csv(file_path3,parse_dates=True)"
   ]
  },
  {
   "cell_type": "code",
   "execution_count": 3,
   "id": "bfc13053-12a0-484a-b4ea-20bab744ea53",
   "metadata": {},
   "outputs": [],
   "source": [
    "#changing column names to convention\n",
    "\n",
    "import data_tools as dt\n",
    "\n",
    "df_enrg.columns=dt.df_col(df_enrg.columns)\n",
    "df_trans.columns=dt.df_col(df_trans.columns)\n",
    "df_emp.columns=dt.df_col(df_emp.columns)"
   ]
  },
  {
   "cell_type": "code",
   "execution_count": 4,
   "id": "90f06203-b4b2-4f6a-927a-a05a38691472",
   "metadata": {},
   "outputs": [
    {
     "name": "stdout",
     "output_type": "stream",
     "text": [
      "<class 'pandas.core.frame.DataFrame'>\n",
      "RangeIndex: 6973 entries, 0 to 6972\n",
      "Data columns (total 8 columns):\n",
      " #   Column      Non-Null Count  Dtype  \n",
      "---  ------      --------------  -----  \n",
      " 0   location    6973 non-null   object \n",
      " 1   indicator   6973 non-null   object \n",
      " 2   subject     6973 non-null   object \n",
      " 3   measure     6973 non-null   object \n",
      " 4   frequency   6973 non-null   object \n",
      " 5   time        6973 non-null   int64  \n",
      " 6   value       5321 non-null   float64\n",
      " 7   flag_codes  1669 non-null   object \n",
      "dtypes: float64(1), int64(1), object(6)\n",
      "memory usage: 435.9+ KB\n"
     ]
    }
   ],
   "source": [
    "df_enrg.info()"
   ]
  },
  {
   "cell_type": "code",
   "execution_count": 5,
   "id": "312a6b60-fff9-4e9b-83f5-210df0742f1d",
   "metadata": {},
   "outputs": [
    {
     "data": {
      "text/html": [
       "<div>\n",
       "<style scoped>\n",
       "    .dataframe tbody tr th:only-of-type {\n",
       "        vertical-align: middle;\n",
       "    }\n",
       "\n",
       "    .dataframe tbody tr th {\n",
       "        vertical-align: top;\n",
       "    }\n",
       "\n",
       "    .dataframe thead th {\n",
       "        text-align: right;\n",
       "    }\n",
       "</style>\n",
       "<table border=\"1\" class=\"dataframe\">\n",
       "  <thead>\n",
       "    <tr style=\"text-align: right;\">\n",
       "      <th></th>\n",
       "      <th>location</th>\n",
       "      <th>indicator</th>\n",
       "      <th>subject</th>\n",
       "      <th>measure</th>\n",
       "      <th>frequency</th>\n",
       "      <th>time</th>\n",
       "      <th>value</th>\n",
       "      <th>flag_codes</th>\n",
       "    </tr>\n",
       "  </thead>\n",
       "  <tbody>\n",
       "    <tr>\n",
       "      <th>0</th>\n",
       "      <td>AUS</td>\n",
       "      <td>ELECTRICITY</td>\n",
       "      <td>NUCLEAR</td>\n",
       "      <td>GWH</td>\n",
       "      <td>A</td>\n",
       "      <td>1960</td>\n",
       "      <td>0.0</td>\n",
       "      <td>NaN</td>\n",
       "    </tr>\n",
       "    <tr>\n",
       "      <th>1</th>\n",
       "      <td>AUS</td>\n",
       "      <td>ELECTRICITY</td>\n",
       "      <td>NUCLEAR</td>\n",
       "      <td>GWH</td>\n",
       "      <td>A</td>\n",
       "      <td>1961</td>\n",
       "      <td>0.0</td>\n",
       "      <td>NaN</td>\n",
       "    </tr>\n",
       "    <tr>\n",
       "      <th>2</th>\n",
       "      <td>AUS</td>\n",
       "      <td>ELECTRICITY</td>\n",
       "      <td>NUCLEAR</td>\n",
       "      <td>GWH</td>\n",
       "      <td>A</td>\n",
       "      <td>1962</td>\n",
       "      <td>0.0</td>\n",
       "      <td>NaN</td>\n",
       "    </tr>\n",
       "    <tr>\n",
       "      <th>3</th>\n",
       "      <td>AUS</td>\n",
       "      <td>ELECTRICITY</td>\n",
       "      <td>NUCLEAR</td>\n",
       "      <td>GWH</td>\n",
       "      <td>A</td>\n",
       "      <td>1963</td>\n",
       "      <td>0.0</td>\n",
       "      <td>NaN</td>\n",
       "    </tr>\n",
       "    <tr>\n",
       "      <th>4</th>\n",
       "      <td>AUS</td>\n",
       "      <td>ELECTRICITY</td>\n",
       "      <td>NUCLEAR</td>\n",
       "      <td>GWH</td>\n",
       "      <td>A</td>\n",
       "      <td>1964</td>\n",
       "      <td>0.0</td>\n",
       "      <td>NaN</td>\n",
       "    </tr>\n",
       "  </tbody>\n",
       "</table>\n",
       "</div>"
      ],
      "text/plain": [
       "  location    indicator  subject measure frequency  time  value flag_codes\n",
       "0      AUS  ELECTRICITY  NUCLEAR     GWH         A  1960    0.0        NaN\n",
       "1      AUS  ELECTRICITY  NUCLEAR     GWH         A  1961    0.0        NaN\n",
       "2      AUS  ELECTRICITY  NUCLEAR     GWH         A  1962    0.0        NaN\n",
       "3      AUS  ELECTRICITY  NUCLEAR     GWH         A  1963    0.0        NaN\n",
       "4      AUS  ELECTRICITY  NUCLEAR     GWH         A  1964    0.0        NaN"
      ]
     },
     "execution_count": 5,
     "metadata": {},
     "output_type": "execute_result"
    }
   ],
   "source": [
    "df_enrg.head()"
   ]
  },
  {
   "cell_type": "code",
   "execution_count": 6,
   "id": "459c3bf5-d457-4a7b-8ae6-365fef1b9875",
   "metadata": {},
   "outputs": [
    {
     "data": {
      "text/plain": [
       "array(['AUS', 'AUT', 'BEL', 'CAN', 'CZE', 'DNK', 'FIN', 'FRA', 'DEU',\n",
       "       'GRC', 'HUN', 'ISL', 'IRL', 'ITA', 'JPN', 'KOR', 'LUX', 'MEX',\n",
       "       'NLD', 'NZL', 'NOR', 'POL', 'PRT', 'SVK', 'ESP', 'SWE', 'CHE',\n",
       "       'TUR', 'GBR', 'USA', 'OEU', 'CHL', 'EST', 'ISR', 'SVN', 'OECD',\n",
       "       'RUS', 'BRA', 'WLD', 'CHN', 'IDN', 'ZAF', 'IND', 'EU28', 'LVA',\n",
       "       'LTU', 'ALB', 'BIH', 'BGR', 'COL', 'HRV', 'CYP', 'GEO', 'MLT',\n",
       "       'MDA', 'ROU', 'UKR', 'SRB', 'MNE', 'CRI', 'MKD', 'EU27_2020'],\n",
       "      dtype=object)"
      ]
     },
     "execution_count": 6,
     "metadata": {},
     "output_type": "execute_result"
    }
   ],
   "source": [
    "df_enrg[\"location\"].unique()"
   ]
  },
  {
   "cell_type": "code",
   "execution_count": 7,
   "id": "656961e5-ce58-4e53-ac6b-ec768ff9a6ac",
   "metadata": {},
   "outputs": [
    {
     "data": {
      "text/html": [
       "<div>\n",
       "<style scoped>\n",
       "    .dataframe tbody tr th:only-of-type {\n",
       "        vertical-align: middle;\n",
       "    }\n",
       "\n",
       "    .dataframe tbody tr th {\n",
       "        vertical-align: top;\n",
       "    }\n",
       "\n",
       "    .dataframe thead th {\n",
       "        text-align: right;\n",
       "    }\n",
       "</style>\n",
       "<table border=\"1\" class=\"dataframe\">\n",
       "  <thead>\n",
       "    <tr style=\"text-align: right;\">\n",
       "      <th></th>\n",
       "      <th>time</th>\n",
       "      <th>value</th>\n",
       "    </tr>\n",
       "  </thead>\n",
       "  <tbody>\n",
       "    <tr>\n",
       "      <th>count</th>\n",
       "      <td>6973.000000</td>\n",
       "      <td>5.321000e+03</td>\n",
       "    </tr>\n",
       "    <tr>\n",
       "      <th>mean</th>\n",
       "      <td>1991.141833</td>\n",
       "      <td>2.281110e+05</td>\n",
       "    </tr>\n",
       "    <tr>\n",
       "      <th>std</th>\n",
       "      <td>18.218595</td>\n",
       "      <td>9.138955e+05</td>\n",
       "    </tr>\n",
       "    <tr>\n",
       "      <th>min</th>\n",
       "      <td>1960.000000</td>\n",
       "      <td>0.000000e+00</td>\n",
       "    </tr>\n",
       "    <tr>\n",
       "      <th>25%</th>\n",
       "      <td>1975.000000</td>\n",
       "      <td>0.000000e+00</td>\n",
       "    </tr>\n",
       "    <tr>\n",
       "      <th>50%</th>\n",
       "      <td>1991.000000</td>\n",
       "      <td>1.004600e+04</td>\n",
       "    </tr>\n",
       "    <tr>\n",
       "      <th>75%</th>\n",
       "      <td>2007.000000</td>\n",
       "      <td>6.850900e+04</td>\n",
       "    </tr>\n",
       "    <tr>\n",
       "      <th>max</th>\n",
       "      <td>2022.000000</td>\n",
       "      <td>1.086010e+07</td>\n",
       "    </tr>\n",
       "  </tbody>\n",
       "</table>\n",
       "</div>"
      ],
      "text/plain": [
       "              time         value\n",
       "count  6973.000000  5.321000e+03\n",
       "mean   1991.141833  2.281110e+05\n",
       "std      18.218595  9.138955e+05\n",
       "min    1960.000000  0.000000e+00\n",
       "25%    1975.000000  0.000000e+00\n",
       "50%    1991.000000  1.004600e+04\n",
       "75%    2007.000000  6.850900e+04\n",
       "max    2022.000000  1.086010e+07"
      ]
     },
     "execution_count": 7,
     "metadata": {},
     "output_type": "execute_result"
    }
   ],
   "source": [
    "df_enrg.describe()"
   ]
  },
  {
   "cell_type": "code",
   "execution_count": 8,
   "id": "a854d495-a1ce-4202-b89b-2c30d0690aad",
   "metadata": {},
   "outputs": [
    {
     "data": {
      "text/plain": [
       "array(['NUCLEAR', 'TOT'], dtype=object)"
      ]
     },
     "execution_count": 8,
     "metadata": {},
     "output_type": "execute_result"
    }
   ],
   "source": [
    "df_enrg[\"subject\"].unique()"
   ]
  },
  {
   "cell_type": "code",
   "execution_count": 9,
   "id": "b3b705aa-87c9-4573-b004-c49d3fd278f8",
   "metadata": {},
   "outputs": [
    {
     "data": {
      "text/plain": [
       "array(['ELECTRICITY'], dtype=object)"
      ]
     },
     "execution_count": 9,
     "metadata": {},
     "output_type": "execute_result"
    }
   ],
   "source": [
    "df_enrg[\"indicator\"].unique()"
   ]
  },
  {
   "cell_type": "code",
   "execution_count": 10,
   "id": "7449d1ef-71f0-4e26-ae44-e99bbaa62f1c",
   "metadata": {},
   "outputs": [
    {
     "data": {
      "text/plain": [
       "array(['GWH', 'PC_ENRGGEN'], dtype=object)"
      ]
     },
     "execution_count": 10,
     "metadata": {},
     "output_type": "execute_result"
    }
   ],
   "source": [
    "df_enrg[\"measure\"].unique()"
   ]
  },
  {
   "cell_type": "code",
   "execution_count": 11,
   "id": "ed48b6a2-34a1-45d4-ac43-ba4a2b3194ee",
   "metadata": {},
   "outputs": [
    {
     "data": {
      "text/plain": [
       "array(['A'], dtype=object)"
      ]
     },
     "execution_count": 11,
     "metadata": {},
     "output_type": "execute_result"
    }
   ],
   "source": [
    "df_enrg[\"frequency\"].unique()"
   ]
  },
  {
   "cell_type": "code",
   "execution_count": 12,
   "id": "560eaf62-153f-41dc-a452-42f7cd42d3e0",
   "metadata": {},
   "outputs": [],
   "source": [
    "df_aus=df_enrg[df_enrg[\"location\"]==\"AUS\"]"
   ]
  },
  {
   "cell_type": "code",
   "execution_count": 13,
   "id": "f1164d92-dcfc-4d51-914e-1b596c5e1c4d",
   "metadata": {},
   "outputs": [
    {
     "data": {
      "text/html": [
       "<div>\n",
       "<style scoped>\n",
       "    .dataframe tbody tr th:only-of-type {\n",
       "        vertical-align: middle;\n",
       "    }\n",
       "\n",
       "    .dataframe tbody tr th {\n",
       "        vertical-align: top;\n",
       "    }\n",
       "\n",
       "    .dataframe thead th {\n",
       "        text-align: right;\n",
       "    }\n",
       "</style>\n",
       "<table border=\"1\" class=\"dataframe\">\n",
       "  <thead>\n",
       "    <tr style=\"text-align: right;\">\n",
       "      <th></th>\n",
       "      <th>location</th>\n",
       "      <th>indicator</th>\n",
       "      <th>subject</th>\n",
       "      <th>measure</th>\n",
       "      <th>frequency</th>\n",
       "      <th>time</th>\n",
       "      <th>value</th>\n",
       "      <th>flag_codes</th>\n",
       "    </tr>\n",
       "  </thead>\n",
       "  <tbody>\n",
       "    <tr>\n",
       "      <th>0</th>\n",
       "      <td>AUS</td>\n",
       "      <td>ELECTRICITY</td>\n",
       "      <td>NUCLEAR</td>\n",
       "      <td>GWH</td>\n",
       "      <td>A</td>\n",
       "      <td>1960</td>\n",
       "      <td>0.000</td>\n",
       "      <td>NaN</td>\n",
       "    </tr>\n",
       "    <tr>\n",
       "      <th>1</th>\n",
       "      <td>AUS</td>\n",
       "      <td>ELECTRICITY</td>\n",
       "      <td>NUCLEAR</td>\n",
       "      <td>GWH</td>\n",
       "      <td>A</td>\n",
       "      <td>1961</td>\n",
       "      <td>0.000</td>\n",
       "      <td>NaN</td>\n",
       "    </tr>\n",
       "    <tr>\n",
       "      <th>2</th>\n",
       "      <td>AUS</td>\n",
       "      <td>ELECTRICITY</td>\n",
       "      <td>NUCLEAR</td>\n",
       "      <td>GWH</td>\n",
       "      <td>A</td>\n",
       "      <td>1962</td>\n",
       "      <td>0.000</td>\n",
       "      <td>NaN</td>\n",
       "    </tr>\n",
       "    <tr>\n",
       "      <th>3</th>\n",
       "      <td>AUS</td>\n",
       "      <td>ELECTRICITY</td>\n",
       "      <td>NUCLEAR</td>\n",
       "      <td>GWH</td>\n",
       "      <td>A</td>\n",
       "      <td>1963</td>\n",
       "      <td>0.000</td>\n",
       "      <td>NaN</td>\n",
       "    </tr>\n",
       "    <tr>\n",
       "      <th>4</th>\n",
       "      <td>AUS</td>\n",
       "      <td>ELECTRICITY</td>\n",
       "      <td>NUCLEAR</td>\n",
       "      <td>GWH</td>\n",
       "      <td>A</td>\n",
       "      <td>1964</td>\n",
       "      <td>0.000</td>\n",
       "      <td>NaN</td>\n",
       "    </tr>\n",
       "    <tr>\n",
       "      <th>...</th>\n",
       "      <td>...</td>\n",
       "      <td>...</td>\n",
       "      <td>...</td>\n",
       "      <td>...</td>\n",
       "      <td>...</td>\n",
       "      <td>...</td>\n",
       "      <td>...</td>\n",
       "      <td>...</td>\n",
       "    </tr>\n",
       "    <tr>\n",
       "      <th>122</th>\n",
       "      <td>AUS</td>\n",
       "      <td>ELECTRICITY</td>\n",
       "      <td>TOT</td>\n",
       "      <td>GWH</td>\n",
       "      <td>A</td>\n",
       "      <td>2019</td>\n",
       "      <td>250530.937</td>\n",
       "      <td>NaN</td>\n",
       "    </tr>\n",
       "    <tr>\n",
       "      <th>123</th>\n",
       "      <td>AUS</td>\n",
       "      <td>ELECTRICITY</td>\n",
       "      <td>TOT</td>\n",
       "      <td>GWH</td>\n",
       "      <td>A</td>\n",
       "      <td>2020</td>\n",
       "      <td>251913.481</td>\n",
       "      <td>NaN</td>\n",
       "    </tr>\n",
       "    <tr>\n",
       "      <th>124</th>\n",
       "      <td>AUS</td>\n",
       "      <td>ELECTRICITY</td>\n",
       "      <td>TOT</td>\n",
       "      <td>GWH</td>\n",
       "      <td>A</td>\n",
       "      <td>2021</td>\n",
       "      <td>252505.422</td>\n",
       "      <td>NaN</td>\n",
       "    </tr>\n",
       "    <tr>\n",
       "      <th>125</th>\n",
       "      <td>AUS</td>\n",
       "      <td>ELECTRICITY</td>\n",
       "      <td>TOT</td>\n",
       "      <td>GWH</td>\n",
       "      <td>A</td>\n",
       "      <td>2022</td>\n",
       "      <td>NaN</td>\n",
       "      <td>L</td>\n",
       "    </tr>\n",
       "    <tr>\n",
       "      <th>4540</th>\n",
       "      <td>AUS</td>\n",
       "      <td>ELECTRICITY</td>\n",
       "      <td>NUCLEAR</td>\n",
       "      <td>PC_ENRGGEN</td>\n",
       "      <td>A</td>\n",
       "      <td>2014</td>\n",
       "      <td>0.000</td>\n",
       "      <td>Z</td>\n",
       "    </tr>\n",
       "  </tbody>\n",
       "</table>\n",
       "<p>127 rows × 8 columns</p>\n",
       "</div>"
      ],
      "text/plain": [
       "     location    indicator  subject     measure frequency  time       value  \\\n",
       "0         AUS  ELECTRICITY  NUCLEAR         GWH         A  1960       0.000   \n",
       "1         AUS  ELECTRICITY  NUCLEAR         GWH         A  1961       0.000   \n",
       "2         AUS  ELECTRICITY  NUCLEAR         GWH         A  1962       0.000   \n",
       "3         AUS  ELECTRICITY  NUCLEAR         GWH         A  1963       0.000   \n",
       "4         AUS  ELECTRICITY  NUCLEAR         GWH         A  1964       0.000   \n",
       "...       ...          ...      ...         ...       ...   ...         ...   \n",
       "122       AUS  ELECTRICITY      TOT         GWH         A  2019  250530.937   \n",
       "123       AUS  ELECTRICITY      TOT         GWH         A  2020  251913.481   \n",
       "124       AUS  ELECTRICITY      TOT         GWH         A  2021  252505.422   \n",
       "125       AUS  ELECTRICITY      TOT         GWH         A  2022         NaN   \n",
       "4540      AUS  ELECTRICITY  NUCLEAR  PC_ENRGGEN         A  2014       0.000   \n",
       "\n",
       "     flag_codes  \n",
       "0           NaN  \n",
       "1           NaN  \n",
       "2           NaN  \n",
       "3           NaN  \n",
       "4           NaN  \n",
       "...         ...  \n",
       "122         NaN  \n",
       "123         NaN  \n",
       "124         NaN  \n",
       "125           L  \n",
       "4540          Z  \n",
       "\n",
       "[127 rows x 8 columns]"
      ]
     },
     "execution_count": 13,
     "metadata": {},
     "output_type": "execute_result"
    }
   ],
   "source": [
    "df_aus"
   ]
  },
  {
   "cell_type": "code",
   "execution_count": 14,
   "id": "ba507599-2595-4a74-bd90-0120e5e2dbf3",
   "metadata": {},
   "outputs": [
    {
     "data": {
      "text/html": [
       "<div>\n",
       "<style scoped>\n",
       "    .dataframe tbody tr th:only-of-type {\n",
       "        vertical-align: middle;\n",
       "    }\n",
       "\n",
       "    .dataframe tbody tr th {\n",
       "        vertical-align: top;\n",
       "    }\n",
       "\n",
       "    .dataframe thead th {\n",
       "        text-align: right;\n",
       "    }\n",
       "</style>\n",
       "<table border=\"1\" class=\"dataframe\">\n",
       "  <thead>\n",
       "    <tr style=\"text-align: right;\">\n",
       "      <th></th>\n",
       "      <th>location</th>\n",
       "      <th>indicator</th>\n",
       "      <th>subject</th>\n",
       "      <th>measure</th>\n",
       "      <th>frequency</th>\n",
       "      <th>time</th>\n",
       "      <th>value</th>\n",
       "      <th>flag_codes</th>\n",
       "    </tr>\n",
       "  </thead>\n",
       "  <tbody>\n",
       "    <tr>\n",
       "      <th>0</th>\n",
       "      <td>AUS</td>\n",
       "      <td>ELECTRICITY</td>\n",
       "      <td>NUCLEAR</td>\n",
       "      <td>GWH</td>\n",
       "      <td>A</td>\n",
       "      <td>1960</td>\n",
       "      <td>0.000</td>\n",
       "      <td>NaN</td>\n",
       "    </tr>\n",
       "    <tr>\n",
       "      <th>1</th>\n",
       "      <td>AUS</td>\n",
       "      <td>ELECTRICITY</td>\n",
       "      <td>NUCLEAR</td>\n",
       "      <td>GWH</td>\n",
       "      <td>A</td>\n",
       "      <td>1961</td>\n",
       "      <td>0.000</td>\n",
       "      <td>NaN</td>\n",
       "    </tr>\n",
       "    <tr>\n",
       "      <th>2</th>\n",
       "      <td>AUS</td>\n",
       "      <td>ELECTRICITY</td>\n",
       "      <td>NUCLEAR</td>\n",
       "      <td>GWH</td>\n",
       "      <td>A</td>\n",
       "      <td>1962</td>\n",
       "      <td>0.000</td>\n",
       "      <td>NaN</td>\n",
       "    </tr>\n",
       "    <tr>\n",
       "      <th>3</th>\n",
       "      <td>AUS</td>\n",
       "      <td>ELECTRICITY</td>\n",
       "      <td>NUCLEAR</td>\n",
       "      <td>GWH</td>\n",
       "      <td>A</td>\n",
       "      <td>1963</td>\n",
       "      <td>0.000</td>\n",
       "      <td>NaN</td>\n",
       "    </tr>\n",
       "    <tr>\n",
       "      <th>4</th>\n",
       "      <td>AUS</td>\n",
       "      <td>ELECTRICITY</td>\n",
       "      <td>NUCLEAR</td>\n",
       "      <td>GWH</td>\n",
       "      <td>A</td>\n",
       "      <td>1964</td>\n",
       "      <td>0.000</td>\n",
       "      <td>NaN</td>\n",
       "    </tr>\n",
       "    <tr>\n",
       "      <th>...</th>\n",
       "      <td>...</td>\n",
       "      <td>...</td>\n",
       "      <td>...</td>\n",
       "      <td>...</td>\n",
       "      <td>...</td>\n",
       "      <td>...</td>\n",
       "      <td>...</td>\n",
       "      <td>...</td>\n",
       "    </tr>\n",
       "    <tr>\n",
       "      <th>6905</th>\n",
       "      <td>EU27_2020</td>\n",
       "      <td>ELECTRICITY</td>\n",
       "      <td>NUCLEAR</td>\n",
       "      <td>GWH</td>\n",
       "      <td>A</td>\n",
       "      <td>2018</td>\n",
       "      <td>724552.433</td>\n",
       "      <td>NaN</td>\n",
       "    </tr>\n",
       "    <tr>\n",
       "      <th>6906</th>\n",
       "      <td>EU27_2020</td>\n",
       "      <td>ELECTRICITY</td>\n",
       "      <td>NUCLEAR</td>\n",
       "      <td>GWH</td>\n",
       "      <td>A</td>\n",
       "      <td>2019</td>\n",
       "      <td>728275.117</td>\n",
       "      <td>NaN</td>\n",
       "    </tr>\n",
       "    <tr>\n",
       "      <th>6907</th>\n",
       "      <td>EU27_2020</td>\n",
       "      <td>ELECTRICITY</td>\n",
       "      <td>NUCLEAR</td>\n",
       "      <td>GWH</td>\n",
       "      <td>A</td>\n",
       "      <td>2020</td>\n",
       "      <td>648379.652</td>\n",
       "      <td>NaN</td>\n",
       "    </tr>\n",
       "    <tr>\n",
       "      <th>6908</th>\n",
       "      <td>EU27_2020</td>\n",
       "      <td>ELECTRICITY</td>\n",
       "      <td>NUCLEAR</td>\n",
       "      <td>GWH</td>\n",
       "      <td>A</td>\n",
       "      <td>2021</td>\n",
       "      <td>695509.902</td>\n",
       "      <td>NaN</td>\n",
       "    </tr>\n",
       "    <tr>\n",
       "      <th>6909</th>\n",
       "      <td>EU27_2020</td>\n",
       "      <td>ELECTRICITY</td>\n",
       "      <td>NUCLEAR</td>\n",
       "      <td>GWH</td>\n",
       "      <td>A</td>\n",
       "      <td>2022</td>\n",
       "      <td>NaN</td>\n",
       "      <td>L</td>\n",
       "    </tr>\n",
       "  </tbody>\n",
       "</table>\n",
       "<p>3508 rows × 8 columns</p>\n",
       "</div>"
      ],
      "text/plain": [
       "       location    indicator  subject measure frequency  time       value  \\\n",
       "0           AUS  ELECTRICITY  NUCLEAR     GWH         A  1960       0.000   \n",
       "1           AUS  ELECTRICITY  NUCLEAR     GWH         A  1961       0.000   \n",
       "2           AUS  ELECTRICITY  NUCLEAR     GWH         A  1962       0.000   \n",
       "3           AUS  ELECTRICITY  NUCLEAR     GWH         A  1963       0.000   \n",
       "4           AUS  ELECTRICITY  NUCLEAR     GWH         A  1964       0.000   \n",
       "...         ...          ...      ...     ...       ...   ...         ...   \n",
       "6905  EU27_2020  ELECTRICITY  NUCLEAR     GWH         A  2018  724552.433   \n",
       "6906  EU27_2020  ELECTRICITY  NUCLEAR     GWH         A  2019  728275.117   \n",
       "6907  EU27_2020  ELECTRICITY  NUCLEAR     GWH         A  2020  648379.652   \n",
       "6908  EU27_2020  ELECTRICITY  NUCLEAR     GWH         A  2021  695509.902   \n",
       "6909  EU27_2020  ELECTRICITY  NUCLEAR     GWH         A  2022         NaN   \n",
       "\n",
       "     flag_codes  \n",
       "0           NaN  \n",
       "1           NaN  \n",
       "2           NaN  \n",
       "3           NaN  \n",
       "4           NaN  \n",
       "...         ...  \n",
       "6905        NaN  \n",
       "6906        NaN  \n",
       "6907        NaN  \n",
       "6908        NaN  \n",
       "6909          L  \n",
       "\n",
       "[3508 rows x 8 columns]"
      ]
     },
     "execution_count": 14,
     "metadata": {},
     "output_type": "execute_result"
    }
   ],
   "source": [
    "df_enrg[df_enrg[\"subject\"]==\"NUCLEAR\"]"
   ]
  },
  {
   "cell_type": "code",
   "execution_count": 15,
   "id": "8ff04066-0b0c-4abd-81a3-b8cf62088f6a",
   "metadata": {},
   "outputs": [
    {
     "data": {
      "text/html": [
       "<div>\n",
       "<style scoped>\n",
       "    .dataframe tbody tr th:only-of-type {\n",
       "        vertical-align: middle;\n",
       "    }\n",
       "\n",
       "    .dataframe tbody tr th {\n",
       "        vertical-align: top;\n",
       "    }\n",
       "\n",
       "    .dataframe thead th {\n",
       "        text-align: right;\n",
       "    }\n",
       "</style>\n",
       "<table border=\"1\" class=\"dataframe\">\n",
       "  <thead>\n",
       "    <tr style=\"text-align: right;\">\n",
       "      <th></th>\n",
       "      <th>location</th>\n",
       "      <th>indicator</th>\n",
       "      <th>subject</th>\n",
       "      <th>measure</th>\n",
       "      <th>frequency</th>\n",
       "      <th>time</th>\n",
       "      <th>value</th>\n",
       "      <th>flag_codes</th>\n",
       "    </tr>\n",
       "  </thead>\n",
       "  <tbody>\n",
       "    <tr>\n",
       "      <th>63</th>\n",
       "      <td>AUS</td>\n",
       "      <td>ELECTRICITY</td>\n",
       "      <td>TOT</td>\n",
       "      <td>GWH</td>\n",
       "      <td>A</td>\n",
       "      <td>1960</td>\n",
       "      <td>0.000</td>\n",
       "      <td>NaN</td>\n",
       "    </tr>\n",
       "    <tr>\n",
       "      <th>64</th>\n",
       "      <td>AUS</td>\n",
       "      <td>ELECTRICITY</td>\n",
       "      <td>TOT</td>\n",
       "      <td>GWH</td>\n",
       "      <td>A</td>\n",
       "      <td>1961</td>\n",
       "      <td>0.000</td>\n",
       "      <td>NaN</td>\n",
       "    </tr>\n",
       "    <tr>\n",
       "      <th>65</th>\n",
       "      <td>AUS</td>\n",
       "      <td>ELECTRICITY</td>\n",
       "      <td>TOT</td>\n",
       "      <td>GWH</td>\n",
       "      <td>A</td>\n",
       "      <td>1962</td>\n",
       "      <td>0.000</td>\n",
       "      <td>NaN</td>\n",
       "    </tr>\n",
       "    <tr>\n",
       "      <th>66</th>\n",
       "      <td>AUS</td>\n",
       "      <td>ELECTRICITY</td>\n",
       "      <td>TOT</td>\n",
       "      <td>GWH</td>\n",
       "      <td>A</td>\n",
       "      <td>1963</td>\n",
       "      <td>0.000</td>\n",
       "      <td>NaN</td>\n",
       "    </tr>\n",
       "    <tr>\n",
       "      <th>67</th>\n",
       "      <td>AUS</td>\n",
       "      <td>ELECTRICITY</td>\n",
       "      <td>TOT</td>\n",
       "      <td>GWH</td>\n",
       "      <td>A</td>\n",
       "      <td>1964</td>\n",
       "      <td>0.000</td>\n",
       "      <td>NaN</td>\n",
       "    </tr>\n",
       "    <tr>\n",
       "      <th>...</th>\n",
       "      <td>...</td>\n",
       "      <td>...</td>\n",
       "      <td>...</td>\n",
       "      <td>...</td>\n",
       "      <td>...</td>\n",
       "      <td>...</td>\n",
       "      <td>...</td>\n",
       "      <td>...</td>\n",
       "    </tr>\n",
       "    <tr>\n",
       "      <th>6968</th>\n",
       "      <td>EU27_2020</td>\n",
       "      <td>ELECTRICITY</td>\n",
       "      <td>TOT</td>\n",
       "      <td>GWH</td>\n",
       "      <td>A</td>\n",
       "      <td>2018</td>\n",
       "      <td>2802394.524</td>\n",
       "      <td>NaN</td>\n",
       "    </tr>\n",
       "    <tr>\n",
       "      <th>6969</th>\n",
       "      <td>EU27_2020</td>\n",
       "      <td>ELECTRICITY</td>\n",
       "      <td>TOT</td>\n",
       "      <td>GWH</td>\n",
       "      <td>A</td>\n",
       "      <td>2019</td>\n",
       "      <td>2776074.250</td>\n",
       "      <td>NaN</td>\n",
       "    </tr>\n",
       "    <tr>\n",
       "      <th>6970</th>\n",
       "      <td>EU27_2020</td>\n",
       "      <td>ELECTRICITY</td>\n",
       "      <td>TOT</td>\n",
       "      <td>GWH</td>\n",
       "      <td>A</td>\n",
       "      <td>2020</td>\n",
       "      <td>2667709.691</td>\n",
       "      <td>NaN</td>\n",
       "    </tr>\n",
       "    <tr>\n",
       "      <th>6971</th>\n",
       "      <td>EU27_2020</td>\n",
       "      <td>ELECTRICITY</td>\n",
       "      <td>TOT</td>\n",
       "      <td>GWH</td>\n",
       "      <td>A</td>\n",
       "      <td>2021</td>\n",
       "      <td>2784613.586</td>\n",
       "      <td>NaN</td>\n",
       "    </tr>\n",
       "    <tr>\n",
       "      <th>6972</th>\n",
       "      <td>EU27_2020</td>\n",
       "      <td>ELECTRICITY</td>\n",
       "      <td>TOT</td>\n",
       "      <td>GWH</td>\n",
       "      <td>A</td>\n",
       "      <td>2022</td>\n",
       "      <td>NaN</td>\n",
       "      <td>L</td>\n",
       "    </tr>\n",
       "  </tbody>\n",
       "</table>\n",
       "<p>3465 rows × 8 columns</p>\n",
       "</div>"
      ],
      "text/plain": [
       "       location    indicator subject measure frequency  time        value  \\\n",
       "63          AUS  ELECTRICITY     TOT     GWH         A  1960        0.000   \n",
       "64          AUS  ELECTRICITY     TOT     GWH         A  1961        0.000   \n",
       "65          AUS  ELECTRICITY     TOT     GWH         A  1962        0.000   \n",
       "66          AUS  ELECTRICITY     TOT     GWH         A  1963        0.000   \n",
       "67          AUS  ELECTRICITY     TOT     GWH         A  1964        0.000   \n",
       "...         ...          ...     ...     ...       ...   ...          ...   \n",
       "6968  EU27_2020  ELECTRICITY     TOT     GWH         A  2018  2802394.524   \n",
       "6969  EU27_2020  ELECTRICITY     TOT     GWH         A  2019  2776074.250   \n",
       "6970  EU27_2020  ELECTRICITY     TOT     GWH         A  2020  2667709.691   \n",
       "6971  EU27_2020  ELECTRICITY     TOT     GWH         A  2021  2784613.586   \n",
       "6972  EU27_2020  ELECTRICITY     TOT     GWH         A  2022          NaN   \n",
       "\n",
       "     flag_codes  \n",
       "63          NaN  \n",
       "64          NaN  \n",
       "65          NaN  \n",
       "66          NaN  \n",
       "67          NaN  \n",
       "...         ...  \n",
       "6968        NaN  \n",
       "6969        NaN  \n",
       "6970        NaN  \n",
       "6971        NaN  \n",
       "6972          L  \n",
       "\n",
       "[3465 rows x 8 columns]"
      ]
     },
     "execution_count": 15,
     "metadata": {},
     "output_type": "execute_result"
    }
   ],
   "source": [
    "df_enrg[df_enrg[\"subject\"]==\"TOT\"]"
   ]
  },
  {
   "cell_type": "code",
   "execution_count": 16,
   "id": "7eed5348-cd05-4d23-b9c8-3e96b533bb32",
   "metadata": {},
   "outputs": [
    {
     "name": "stderr",
     "output_type": "stream",
     "text": [
      "/tmp/ipykernel_9823/33029380.py:1: SettingWithCopyWarning: \n",
      "A value is trying to be set on a copy of a slice from a DataFrame.\n",
      "Try using .loc[row_indexer,col_indexer] = value instead\n",
      "\n",
      "See the caveats in the documentation: https://pandas.pydata.org/pandas-docs/stable/user_guide/indexing.html#returning-a-view-versus-a-copy\n",
      "  df_aus[df_aus[\"value\"]==0]=np.NaN\n"
     ]
    }
   ],
   "source": [
    "df_aus[df_aus[\"value\"]==0]=np.NaN"
   ]
  },
  {
   "cell_type": "code",
   "execution_count": 17,
   "id": "4df1860b-3e68-4276-9d68-274abb78da04",
   "metadata": {},
   "outputs": [
    {
     "data": {
      "text/plain": [
       "[<matplotlib.lines.Line2D at 0x7f0639b421f0>]"
      ]
     },
     "execution_count": 17,
     "metadata": {},
     "output_type": "execute_result"
    },
    {
     "data": {
      "image/png": "[encoded data removed]",
      "text/plain": [
       "<Figure size 640x480 with 1 Axes>"
      ]
     },
     "metadata": {},
     "output_type": "display_data"
    }
   ],
   "source": [
    "plt.plot(df_aus[\"time\"],df_aus[\"value\"])"
   ]
  },
  {
   "cell_type": "code",
   "execution_count": 18,
   "id": "549bbbbd-3f32-4bc1-9e73-5b5b1158c132",
   "metadata": {},
   "outputs": [
    {
     "ename": "ValueError",
     "evalue": "could not convert string to float: 'AUS'",
     "output_type": "error",
     "traceback": [
      "\u001b[0;31m---------------------------------------------------------------------------\u001b[0m",
      "\u001b[0;31mValueError\u001b[0m                                Traceback (most recent call last)",
      "\u001b[0;32m/tmp/ipykernel_9823/1987013209.py\u001b[0m in \u001b[0;36m?\u001b[0;34m()\u001b[0m\n\u001b[0;32m----> 3\u001b[0;31m \u001b[0;32mfrom\u001b[0m \u001b[0mstatsmodels\u001b[0m\u001b[0;34m.\u001b[0m\u001b[0mtsa\u001b[0m\u001b[0;34m.\u001b[0m\u001b[0mseasonal\u001b[0m \u001b[0;32mimport\u001b[0m \u001b[0mseasonal_decompose\u001b[0m\u001b[0;34m\u001b[0m\u001b[0;34m\u001b[0m\u001b[0m\n\u001b[0m\u001b[1;32m      4\u001b[0m \u001b[0;34m\u001b[0m\u001b[0m\n\u001b[1;32m      5\u001b[0m \u001b[0mresult\u001b[0m\u001b[0;34m=\u001b[0m\u001b[0mseasonal_decompose\u001b[0m\u001b[0;34m(\u001b[0m\u001b[0mdf_aus\u001b[0m\u001b[0;34m)\u001b[0m\u001b[0;34m\u001b[0m\u001b[0;34m\u001b[0m\u001b[0m\n",
      "\u001b[0;32m~/anaconda3/lib/python3.9/site-packages/statsmodels/tsa/seasonal.py\u001b[0m in \u001b[0;36m?\u001b[0;34m(x, model, filt, period, two_sided, extrapolate_trend)\u001b[0m\n\u001b[1;32m    145\u001b[0m     \u001b[0mpw\u001b[0m \u001b[0;34m=\u001b[0m \u001b[0mPandasWrapper\u001b[0m\u001b[0;34m(\u001b[0m\u001b[0mx\u001b[0m\u001b[0;34m)\u001b[0m\u001b[0;34m\u001b[0m\u001b[0;34m\u001b[0m\u001b[0m\n\u001b[1;32m    146\u001b[0m     \u001b[0;32mif\u001b[0m \u001b[0mperiod\u001b[0m \u001b[0;32mis\u001b[0m \u001b[0;32mNone\u001b[0m\u001b[0;34m:\u001b[0m\u001b[0;34m\u001b[0m\u001b[0;34m\u001b[0m\u001b[0m\n\u001b[1;32m    147\u001b[0m         \u001b[0mpfreq\u001b[0m \u001b[0;34m=\u001b[0m \u001b[0mgetattr\u001b[0m\u001b[0;34m(\u001b[0m\u001b[0mgetattr\u001b[0m\u001b[0;34m(\u001b[0m\u001b[0mx\u001b[0m\u001b[0;34m,\u001b[0m \u001b[0;34m\"index\"\u001b[0m\u001b[0;34m,\u001b[0m \u001b[0;32mNone\u001b[0m\u001b[0;34m)\u001b[0m\u001b[0;34m,\u001b[0m \u001b[0;34m\"inferred_freq\"\u001b[0m\u001b[0;34m,\u001b[0m \u001b[0;32mNone\u001b[0m\u001b[0;34m)\u001b[0m\u001b[0;34m\u001b[0m\u001b[0;34m\u001b[0m\u001b[0m\n\u001b[1;32m    148\u001b[0m \u001b[0;34m\u001b[0m\u001b[0m\n\u001b[0;32m--> 149\u001b[0;31m     \u001b[0mx\u001b[0m \u001b[0;34m=\u001b[0m \u001b[0marray_like\u001b[0m\u001b[0;34m(\u001b[0m\u001b[0mx\u001b[0m\u001b[0;34m,\u001b[0m \u001b[0;34m\"x\"\u001b[0m\u001b[0;34m,\u001b[0m \u001b[0mmaxdim\u001b[0m\u001b[0;34m=\u001b[0m\u001b[0;36m2\u001b[0m\u001b[0;34m)\u001b[0m\u001b[0;34m\u001b[0m\u001b[0;34m\u001b[0m\u001b[0m\n\u001b[0m\u001b[1;32m    150\u001b[0m     \u001b[0mnobs\u001b[0m \u001b[0;34m=\u001b[0m \u001b[0mlen\u001b[0m\u001b[0;34m(\u001b[0m\u001b[0mx\u001b[0m\u001b[0;34m)\u001b[0m\u001b[0;34m\u001b[0m\u001b[0;34m\u001b[0m\u001b[0m\n\u001b[1;32m    151\u001b[0m \u001b[0;34m\u001b[0m\u001b[0m\n\u001b[1;32m    152\u001b[0m     \u001b[0;32mif\u001b[0m \u001b[0;32mnot\u001b[0m \u001b[0mnp\u001b[0m\u001b[0;34m.\u001b[0m\u001b[0mall\u001b[0m\u001b[0;34m(\u001b[0m\u001b[0mnp\u001b[0m\u001b[0;34m.\u001b[0m\u001b[0misfinite\u001b[0m\u001b[0;34m(\u001b[0m\u001b[0mx\u001b[0m\u001b[0;34m)\u001b[0m\u001b[0;34m)\u001b[0m\u001b[0;34m:\u001b[0m\u001b[0;34m\u001b[0m\u001b[0;34m\u001b[0m\u001b[0m\n",
      "\u001b[0;32m~/anaconda3/lib/python3.9/site-packages/statsmodels/tools/validation/validation.py\u001b[0m in \u001b[0;36m?\u001b[0;34m(obj, name, dtype, ndim, maxdim, shape, order, contiguous, optional, writeable)\u001b[0m\n\u001b[1;32m    139\u001b[0m     \u001b[0;32mif\u001b[0m \u001b[0morder\u001b[0m \u001b[0;34m==\u001b[0m \u001b[0;34m\"C\"\u001b[0m \u001b[0;32mor\u001b[0m \u001b[0mcontiguous\u001b[0m\u001b[0;34m:\u001b[0m\u001b[0;34m\u001b[0m\u001b[0;34m\u001b[0m\u001b[0m\n\u001b[1;32m    140\u001b[0m         \u001b[0mreqs\u001b[0m \u001b[0;34m+=\u001b[0m \u001b[0;34m[\u001b[0m\u001b[0;34m\"C\"\u001b[0m\u001b[0;34m]\u001b[0m\u001b[0;34m\u001b[0m\u001b[0;34m\u001b[0m\u001b[0m\n\u001b[1;32m    141\u001b[0m     \u001b[0;32melif\u001b[0m \u001b[0morder\u001b[0m \u001b[0;34m==\u001b[0m \u001b[0;34m\"F\"\u001b[0m\u001b[0;34m:\u001b[0m\u001b[0;34m\u001b[0m\u001b[0;34m\u001b[0m\u001b[0m\n\u001b[1;32m    142\u001b[0m         \u001b[0mreqs\u001b[0m \u001b[0;34m+=\u001b[0m \u001b[0;34m[\u001b[0m\u001b[0;34m\"F\"\u001b[0m\u001b[0;34m]\u001b[0m\u001b[0;34m\u001b[0m\u001b[0;34m\u001b[0m\u001b[0m\n\u001b[0;32m--> 143\u001b[0;31m     \u001b[0marr\u001b[0m \u001b[0;34m=\u001b[0m \u001b[0mnp\u001b[0m\u001b[0;34m.\u001b[0m\u001b[0mrequire\u001b[0m\u001b[0;34m(\u001b[0m\u001b[0mobj\u001b[0m\u001b[0;34m,\u001b[0m \u001b[0mdtype\u001b[0m\u001b[0;34m=\u001b[0m\u001b[0mdtype\u001b[0m\u001b[0;34m,\u001b[0m \u001b[0mrequirements\u001b[0m\u001b[0;34m=\u001b[0m\u001b[0mreqs\u001b[0m\u001b[0;34m)\u001b[0m\u001b[0;34m\u001b[0m\u001b[0;34m\u001b[0m\u001b[0m\n\u001b[0m\u001b[1;32m    144\u001b[0m     \u001b[0;32mif\u001b[0m \u001b[0mmaxdim\u001b[0m \u001b[0;32mis\u001b[0m \u001b[0;32mnot\u001b[0m \u001b[0;32mNone\u001b[0m\u001b[0;34m:\u001b[0m\u001b[0;34m\u001b[0m\u001b[0;34m\u001b[0m\u001b[0m\n\u001b[1;32m    145\u001b[0m         \u001b[0;32mif\u001b[0m \u001b[0marr\u001b[0m\u001b[0;34m.\u001b[0m\u001b[0mndim\u001b[0m \u001b[0;34m>\u001b[0m \u001b[0mmaxdim\u001b[0m\u001b[0;34m:\u001b[0m\u001b[0;34m\u001b[0m\u001b[0;34m\u001b[0m\u001b[0m\n\u001b[1;32m    146\u001b[0m             \u001b[0mmsg\u001b[0m \u001b[0;34m=\u001b[0m \u001b[0;34m\"{0} must have ndim <= {1}\"\u001b[0m\u001b[0;34m.\u001b[0m\u001b[0mformat\u001b[0m\u001b[0;34m(\u001b[0m\u001b[0mname\u001b[0m\u001b[0;34m,\u001b[0m \u001b[0mmaxdim\u001b[0m\u001b[0;34m)\u001b[0m\u001b[0;34m\u001b[0m\u001b[0;34m\u001b[0m\u001b[0m\n",
      "\u001b[0;32m~/anaconda3/lib/python3.9/site-packages/numpy/core/_asarray.py\u001b[0m in \u001b[0;36m?\u001b[0;34m(a, dtype, requirements, like)\u001b[0m\n\u001b[1;32m    122\u001b[0m     \u001b[0;32melif\u001b[0m \u001b[0;34m'C'\u001b[0m \u001b[0;32min\u001b[0m \u001b[0mrequirements\u001b[0m\u001b[0;34m:\u001b[0m\u001b[0;34m\u001b[0m\u001b[0;34m\u001b[0m\u001b[0m\n\u001b[1;32m    123\u001b[0m         \u001b[0morder\u001b[0m \u001b[0;34m=\u001b[0m \u001b[0;34m'C'\u001b[0m\u001b[0;34m\u001b[0m\u001b[0;34m\u001b[0m\u001b[0m\n\u001b[1;32m    124\u001b[0m         \u001b[0mrequirements\u001b[0m\u001b[0;34m.\u001b[0m\u001b[0mremove\u001b[0m\u001b[0;34m(\u001b[0m\u001b[0;34m'C'\u001b[0m\u001b[0;34m)\u001b[0m\u001b[0;34m\u001b[0m\u001b[0;34m\u001b[0m\u001b[0m\n\u001b[1;32m    125\u001b[0m \u001b[0;34m\u001b[0m\u001b[0m\n\u001b[0;32m--> 126\u001b[0;31m     \u001b[0marr\u001b[0m \u001b[0;34m=\u001b[0m \u001b[0marray\u001b[0m\u001b[0;34m(\u001b[0m\u001b[0ma\u001b[0m\u001b[0;34m,\u001b[0m \u001b[0mdtype\u001b[0m\u001b[0;34m=\u001b[0m\u001b[0mdtype\u001b[0m\u001b[0;34m,\u001b[0m \u001b[0morder\u001b[0m\u001b[0;34m=\u001b[0m\u001b[0morder\u001b[0m\u001b[0;34m,\u001b[0m \u001b[0mcopy\u001b[0m\u001b[0;34m=\u001b[0m\u001b[0;32mFalse\u001b[0m\u001b[0;34m,\u001b[0m \u001b[0msubok\u001b[0m\u001b[0;34m=\u001b[0m\u001b[0msubok\u001b[0m\u001b[0;34m)\u001b[0m\u001b[0;34m\u001b[0m\u001b[0;34m\u001b[0m\u001b[0m\n\u001b[0m\u001b[1;32m    127\u001b[0m \u001b[0;34m\u001b[0m\u001b[0m\n\u001b[1;32m    128\u001b[0m     \u001b[0;32mfor\u001b[0m \u001b[0mprop\u001b[0m \u001b[0;32min\u001b[0m \u001b[0mrequirements\u001b[0m\u001b[0;34m:\u001b[0m\u001b[0;34m\u001b[0m\u001b[0;34m\u001b[0m\u001b[0m\n\u001b[1;32m    129\u001b[0m         \u001b[0;32mif\u001b[0m \u001b[0;32mnot\u001b[0m \u001b[0marr\u001b[0m\u001b[0;34m.\u001b[0m\u001b[0mflags\u001b[0m\u001b[0;34m[\u001b[0m\u001b[0mprop\u001b[0m\u001b[0;34m]\u001b[0m\u001b[0;34m:\u001b[0m\u001b[0;34m\u001b[0m\u001b[0;34m\u001b[0m\u001b[0m\n",
      "\u001b[0;32m~/anaconda3/lib/python3.9/site-packages/pandas/core/generic.py\u001b[0m in \u001b[0;36m?\u001b[0;34m(self, dtype)\u001b[0m\n\u001b[1;32m   2082\u001b[0m     \u001b[0;32mdef\u001b[0m \u001b[0m__array__\u001b[0m\u001b[0;34m(\u001b[0m\u001b[0mself\u001b[0m\u001b[0;34m,\u001b[0m \u001b[0mdtype\u001b[0m\u001b[0;34m:\u001b[0m \u001b[0mnpt\u001b[0m\u001b[0;34m.\u001b[0m\u001b[0mDTypeLike\u001b[0m \u001b[0;34m|\u001b[0m \u001b[0;32mNone\u001b[0m \u001b[0;34m=\u001b[0m \u001b[0;32mNone\u001b[0m\u001b[0;34m)\u001b[0m \u001b[0;34m->\u001b[0m \u001b[0mnp\u001b[0m\u001b[0;34m.\u001b[0m\u001b[0mndarray\u001b[0m\u001b[0;34m:\u001b[0m\u001b[0;34m\u001b[0m\u001b[0;34m\u001b[0m\u001b[0m\n\u001b[1;32m   2083\u001b[0m         \u001b[0mvalues\u001b[0m \u001b[0;34m=\u001b[0m \u001b[0mself\u001b[0m\u001b[0;34m.\u001b[0m\u001b[0m_values\u001b[0m\u001b[0;34m\u001b[0m\u001b[0;34m\u001b[0m\u001b[0m\n\u001b[0;32m-> 2084\u001b[0;31m         \u001b[0marr\u001b[0m \u001b[0;34m=\u001b[0m \u001b[0mnp\u001b[0m\u001b[0;34m.\u001b[0m\u001b[0masarray\u001b[0m\u001b[0;34m(\u001b[0m\u001b[0mvalues\u001b[0m\u001b[0;34m,\u001b[0m \u001b[0mdtype\u001b[0m\u001b[0;34m=\u001b[0m\u001b[0mdtype\u001b[0m\u001b[0;34m)\u001b[0m\u001b[0;34m\u001b[0m\u001b[0;34m\u001b[0m\u001b[0m\n\u001b[0m\u001b[1;32m   2085\u001b[0m         if (\n\u001b[1;32m   2086\u001b[0m             \u001b[0mastype_is_view\u001b[0m\u001b[0;34m(\u001b[0m\u001b[0mvalues\u001b[0m\u001b[0;34m.\u001b[0m\u001b[0mdtype\u001b[0m\u001b[0;34m,\u001b[0m \u001b[0marr\u001b[0m\u001b[0;34m.\u001b[0m\u001b[0mdtype\u001b[0m\u001b[0;34m)\u001b[0m\u001b[0;34m\u001b[0m\u001b[0;34m\u001b[0m\u001b[0m\n\u001b[1;32m   2087\u001b[0m             \u001b[0;32mand\u001b[0m \u001b[0musing_copy_on_write\u001b[0m\u001b[0;34m(\u001b[0m\u001b[0;34m)\u001b[0m\u001b[0;34m\u001b[0m\u001b[0;34m\u001b[0m\u001b[0m\n",
      "\u001b[0;31mValueError\u001b[0m: could not convert string to float: 'AUS'"
     ]
    }
   ],
   "source": [
    "from statsmodels.tsa.seasonal import seasonal_decompose\n",
    "\n",
    "result=seasonal_decompose(df_aus)"
   ]
  },
  {
   "cell_type": "code",
   "execution_count": null,
   "id": "277df834-fec1-453e-bf57-0287425da203",
   "metadata": {},
   "outputs": [],
   "source": [
    "from statsmodels.graphics.tsaplots import plot_acf\n",
    "\n",
    "\n",
    "fig,ax=plt.subplots(3,2,sharex=True)\n",
    "ax[0,0].plot(df_aus.value)\n",
    "ax[0,0].set_title(\"Original Values\")\n",
    "plot_acf(df_aus[\"value\"],ax=ax[0,1])\n",
    "\n",
    "ax[1,0].plot(df_aus.value.diff().dropna())\n",
    "ax[1,0].set_title(\"Order of Differencing: First\")\n",
    "plot_acf(df_aus.value.diff().dropna(),ax=ax[1,1])\n",
    "\n",
    "\n",
    "ax[2,0].plot(df_aus.value.diff().diff().dropna())\n",
    "ax[2,0].set_title(\"Order of Differencing: Second\")\n",
    "plot_acf(df_aus.value.diff().diff().dropna(),ax=ax[2,1])\n",
    "plt.show()"
   ]
  },
  {
   "cell_type": "code",
   "execution_count": null,
   "id": "bbfd59f3-5905-459e-92f0-33162e401db9",
   "metadata": {},
   "outputs": [],
   "source": [
    "df_isl=df_enrg[df_enrg[\"location\"]==\"ISL\"]\n",
    "nuke=df_isl[df_isl[\"subject\"]==\"NUCLEAR\"]\n",
    "nuke[nuke[\"value\"]==0]=np.NaN\n",
    "df_isl=df_isl[df_isl[\"subject\"]==\"TOT\"]\n",
    "plt.plot(df_isl[\"time\"],df_isl[\"value\"])\n",
    "plt.plot(nuke[\"time\"],nuke[\"value\"])"
   ]
  },
  {
   "cell_type": "code",
   "execution_count": null,
   "id": "0619e30b-a447-4b31-aa75-6022cfdf8f21",
   "metadata": {},
   "outputs": [],
   "source": [
    "df_enrg[df_enrg[\"value\"]==0][\"time\"].unique()"
   ]
  },
  {
   "cell_type": "code",
   "execution_count": null,
   "id": "e72864af-a2e9-44f4-acf7-2d991d99c596",
   "metadata": {},
   "outputs": [],
   "source": [
    "from sklearn.preprocessing import OneHotEncoder\n",
    "enc=OneHotEncoder()\n",
    "sample=enc.fit_transform(df_enrg[[\"location\"]])"
   ]
  },
  {
   "cell_type": "code",
   "execution_count": null,
   "id": "b8c91148-a565-4e48-9917-c5590399b4e0",
   "metadata": {},
   "outputs": [],
   "source": [
    "enc.get_feature_names_out().shape"
   ]
  },
  {
   "cell_type": "code",
   "execution_count": null,
   "id": "e52176ca-3523-4fe3-bfd3-a83c4267db70",
   "metadata": {},
   "outputs": [],
   "source": [
    "encode=pd.DataFrame(sample.toarray(),columns=enc.get_feature_names_out())\n"
   ]
  },
  {
   "cell_type": "code",
   "execution_count": null,
   "id": "280e62de-19da-4324-ab49-55efc725ddb9",
   "metadata": {},
   "outputs": [],
   "source": [
    "encode"
   ]
  },
  {
   "cell_type": "code",
   "execution_count": null,
   "id": "ccd49a07-da40-4188-a0b8-8b682b8ea194",
   "metadata": {},
   "outputs": [],
   "source": [
    "df_enc=pd.concat([encode,df_enrg],axis=1)\n",
    "df_enc.fillna(value=0,inplace=True)"
   ]
  },
  {
   "cell_type": "code",
   "execution_count": null,
   "id": "3e02115b-4c74-453a-9223-5bc1900e9626",
   "metadata": {},
   "outputs": [],
   "source": [
    "df_enc"
   ]
  },
  {
   "cell_type": "code",
   "execution_count": null,
   "id": "33c99a2c-8f17-4520-ae46-30217bf41b92",
   "metadata": {},
   "outputs": [],
   "source": [
    "X=torch.Tensor(encode.values)\n",
    "\n",
    "time=torch.Tensor(df_enc.time)\n",
    "val=torch.Tensor(df_enc.value)"
   ]
  },
  {
   "cell_type": "code",
   "execution_count": null,
   "id": "d7e6db39-d218-4429-acb5-62ddc212eb90",
   "metadata": {},
   "outputs": [],
   "source": [
    "time"
   ]
  },
  {
   "cell_type": "code",
   "execution_count": null,
   "id": "0c7f247f-1bf5-4094-a409-ce6b225280d7",
   "metadata": {},
   "outputs": [],
   "source": [
    "X"
   ]
  },
  {
   "cell_type": "code",
   "execution_count": null,
   "id": "bf4f8608-7965-457e-b7d7-a2d9cb6a1bbf",
   "metadata": {},
   "outputs": [],
   "source": [
    "X=torch.hstack([X,time.reshape(-1,1)])"
   ]
  },
  {
   "cell_type": "code",
   "execution_count": null,
   "id": "37feb28b-3384-4f91-9e63-6e4151a47db0",
   "metadata": {},
   "outputs": [],
   "source": [
    "y=torch.Tensor(val.reshape(-1,1))\n",
    "y.shape"
   ]
  },
  {
   "cell_type": "code",
   "execution_count": null,
   "id": "0c0f6057-a16f-4a48-97a0-3bf736a38436",
   "metadata": {},
   "outputs": [],
   "source": [
    "X.shape"
   ]
  },
  {
   "cell_type": "code",
   "execution_count": null,
   "id": "6d71d08c-566b-4dff-9c16-d134f96ff0af",
   "metadata": {},
   "outputs": [],
   "source": [
    "X.reshape(6973,62)"
   ]
  },
  {
   "cell_type": "code",
   "execution_count": null,
   "id": "ae475984-88c5-4fea-b2f4-966e2aeab844",
   "metadata": {},
   "outputs": [],
   "source": [
    "torch.stack"
   ]
  },
  {
   "cell_type": "code",
   "execution_count": null,
   "id": "c53f76f2-c7f9-4558-9591-284ed73349f2",
   "metadata": {},
   "outputs": [],
   "source": [
    "X=torch.from_numpy(sample)"
   ]
  },
  {
   "cell_type": "code",
   "execution_count": null,
   "id": "297f2d27-8c1a-484e-9ed7-9522b07b8d3d",
   "metadata": {},
   "outputs": [],
   "source": [
    "X"
   ]
  }
 ],
 "metadata": {
  "kernelspec": {
   "display_name": "Python 3 (ipykernel)",
   "language": "python",
   "name": "python3"
  },
  "language_info": {
   "codemirror_mode": {
    "name": "ipython",
    "version": 3
   },
   "file_extension": ".py",
   "mimetype": "text/x-python",
   "name": "python",
   "nbconvert_exporter": "python",
   "pygments_lexer": "ipython3",
   "version": "3.9.18"
  }
 },
 "nbformat": 4,
 "nbformat_minor": 5
}
