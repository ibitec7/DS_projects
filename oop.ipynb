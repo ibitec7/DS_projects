{
 "cells": [
  {
   "cell_type": "code",
   "execution_count": 41,
   "id": "75a057f3-7653-4ef4-9dc3-8662a7c216f6",
   "metadata": {},
   "outputs": [],
   "source": [
    "class student:\n",
    "    kind=\"Student Entry\"\n",
    "    \n",
    "    def __init__(self,name,age,grade,marks):\n",
    "        self.name=name\n",
    "        self.age=age\n",
    "        self.grade=grade\n",
    "        self.marks=marks\n",
    "        \n",
    "    def esteem(self):\n",
    "        if self.marks<50:\n",
    "            print(\"I am a failure!\")\n",
    "        else:\n",
    "            print(\"I'm doing good\")\n",
    "        \n",
    "    def haal(self):\n",
    "        if self.grade==\"gapie\":\n",
    "            print(\"vela hoon\")\n",
    "        else:\n",
    "            print(f\"I am a {self.grade}\")"
   ]
  },
  {
   "cell_type": "code",
   "execution_count": 9,
   "id": "b39fa34f-caa5-4526-a891-8d9495c19bd1",
   "metadata": {},
   "outputs": [],
   "source": [
    "ibi=student(\"Ibrahim\",19,\"freshman\",90)\n",
    "adam=student(\"Adam\",21,\"gapie\",45)"
   ]
  },
  {
   "cell_type": "code",
   "execution_count": 12,
   "id": "0e632691-72ef-4bfc-847d-5ee271d8f6ad",
   "metadata": {},
   "outputs": [
    {
     "name": "stdout",
     "output_type": "stream",
     "text": [
      "vela hoon\n"
     ]
    }
   ],
   "source": [
    "adam.haal()"
   ]
  },
  {
   "cell_type": "code",
   "execution_count": 44,
   "id": "6d035bdb-1f22-43a2-b124-611c9aa7a4cc",
   "metadata": {},
   "outputs": [],
   "source": [
    "class family():\n",
    "    kind=\"Family Entry\"\n",
    "    \n",
    "    def __init__(self,name,age,income):\n",
    "        self.name=name\n",
    "        self.age=age\n",
    "        self.income=income\n",
    "        \n",
    "    def money(self):\n",
    "        print(f\"I earn Rs.{self.income}\")\n",
    "        "
   ]
  },
  {
   "cell_type": "code",
   "execution_count": 51,
   "id": "deb1d92c-03de-4467-a3c2-90866edd72cf",
   "metadata": {},
   "outputs": [],
   "source": [
    "class son(family):\n",
    "    def status(self):\n",
    "        print(\"I am most loved\")\n",
    "\n",
    "class father(family):\n",
    "    def status(self):\n",
    "        print(\"I am the dad here\")\n",
    "\n",
    "class mother(family):\n",
    "    def status(self):\n",
    "        print(\"I AM THE MIGHTY MAMA!!!!!\")"
   ]
  },
  {
   "cell_type": "code",
   "execution_count": 56,
   "id": "661ff7a6-6a8b-496c-b0de-a6453ce29bdd",
   "metadata": {},
   "outputs": [],
   "source": [
    "sam=mother(\"Sameen\",43,90000)\n",
    "nigga=father(\"Omer\",53,250000)\n",
    "ibi=son(\"Ibrahim\",19,0)"
   ]
  },
  {
   "cell_type": "code",
   "execution_count": 57,
   "id": "4988709c-09ee-49b0-8354-2819c61517ff",
   "metadata": {},
   "outputs": [
    {
     "name": "stdout",
     "output_type": "stream",
     "text": [
      "I am most loved\n"
     ]
    }
   ],
   "source": [
    "ibi.status()"
   ]
  }
 ],
 "metadata": {
  "kernelspec": {
   "display_name": "Python 3 (ipykernel)",
   "language": "python",
   "name": "python3"
  },
  "language_info": {
   "codemirror_mode": {
    "name": "ipython",
    "version": 3
   },
   "file_extension": ".py",
   "mimetype": "text/x-python",
   "name": "python",
   "nbconvert_exporter": "python",
   "pygments_lexer": "ipython3",
   "version": "3.9.18"
  }
 },
 "nbformat": 4,
 "nbformat_minor": 5
}
